{
 "cells": [
  {
   "cell_type": "markdown",
   "id": "22cb0d2a",
   "metadata": {
    "papermill": {
     "duration": 0.073553,
     "end_time": "2021-11-05T03:02:43.986854",
     "exception": false,
     "start_time": "2021-11-05T03:02:43.913301",
     "status": "completed"
    },
    "tags": []
   },
   "source": []
  },
  {
   "cell_type": "markdown",
   "id": "74813291",
   "metadata": {
    "id": "2IQ7wR2Nf_UY",
    "papermill": {
     "duration": 0.059693,
     "end_time": "2021-11-05T03:02:44.119027",
     "exception": false,
     "start_time": "2021-11-05T03:02:44.059334",
     "status": "completed"
    },
    "tags": []
   },
   "source": [
    "# 1. Importing Libraries \n",
    "👉 **Importing libraries** that will be used in this notebook."
   ]
  },
  {
   "cell_type": "code",
   "execution_count": 1,
   "id": "79ae06f0",
   "metadata": {
    "execution": {
     "iopub.execute_input": "2021-11-05T03:02:44.249209Z",
     "iopub.status.busy": "2021-11-05T03:02:44.247914Z",
     "iopub.status.idle": "2021-11-05T03:02:45.200828Z",
     "shell.execute_reply": "2021-11-05T03:02:45.200074Z",
     "shell.execute_reply.started": "2021-11-05T02:50:16.946237Z"
    },
    "id": "BWyI7RUxdubo",
    "papermill": {
     "duration": 1.019226,
     "end_time": "2021-11-05T03:02:45.201061",
     "exception": false,
     "start_time": "2021-11-05T03:02:44.181835",
     "status": "completed"
    },
    "tags": []
   },
   "outputs": [],
   "source": [
    "import numpy as np\n",
    "import pandas as pd\n",
    "import matplotlib.pyplot as plt\n",
    "import seaborn as sns\n",
    "import os"
   ]
  },
  {
   "cell_type": "markdown",
   "id": "aad917e8",
   "metadata": {
    "id": "GOWA0yfdgKh2",
    "papermill": {
     "duration": 0.060515,
     "end_time": "2021-11-05T03:02:45.322823",
     "exception": false,
     "start_time": "2021-11-05T03:02:45.262308",
     "status": "completed"
    },
    "tags": []
   },
   "source": [
    "# 2. Loading and Reading Data Set 👓\n"
   ]
  },
  {
   "cell_type": "code",
   "execution_count": 2,
   "id": "0c1b7f90",
   "metadata": {
    "execution": {
     "iopub.execute_input": "2021-11-05T03:02:45.447995Z",
     "iopub.status.busy": "2021-11-05T03:02:45.447266Z",
     "iopub.status.idle": "2021-11-05T03:02:45.468921Z",
     "shell.execute_reply": "2021-11-05T03:02:45.469471Z",
     "shell.execute_reply.started": "2021-11-05T02:50:16.953343Z"
    },
    "id": "MttOdogGf977",
    "papermill": {
     "duration": 0.085558,
     "end_time": "2021-11-05T03:02:45.469655",
     "exception": false,
     "start_time": "2021-11-05T03:02:45.384097",
     "status": "completed"
    },
    "tags": []
   },
   "outputs": [],
   "source": [
    "df_drug = pd.read_csv(\"drug200.csv\")"
   ]
  },
  {
   "cell_type": "markdown",
   "id": "d4202d4c",
   "metadata": {
    "papermill": {
     "duration": 0.060016,
     "end_time": "2021-11-05T03:02:45.590554",
     "exception": false,
     "start_time": "2021-11-05T03:02:45.530538",
     "status": "completed"
    },
    "tags": []
   },
   "source": [
    "👉 Read the first 6 rows in the dataset."
   ]
  },
  {
   "cell_type": "code",
   "execution_count": 3,
   "id": "a3e3c46f",
   "metadata": {
    "execution": {
     "iopub.execute_input": "2021-11-05T03:02:45.714814Z",
     "iopub.status.busy": "2021-11-05T03:02:45.714147Z",
     "iopub.status.idle": "2021-11-05T03:02:45.736221Z",
     "shell.execute_reply": "2021-11-05T03:02:45.736761Z",
     "shell.execute_reply.started": "2021-11-05T02:50:16.979453Z"
    },
    "id": "03SilAIggW36",
    "outputId": "ec1244a8-a4a3-4200-af36-2c7776887477",
    "papermill": {
     "duration": 0.08572,
     "end_time": "2021-11-05T03:02:45.736959",
     "exception": false,
     "start_time": "2021-11-05T03:02:45.651239",
     "status": "completed"
    },
    "tags": []
   },
   "outputs": [
    {
     "data": {
      "text/html": [
       "<div>\n",
       "<style scoped>\n",
       "    .dataframe tbody tr th:only-of-type {\n",
       "        vertical-align: middle;\n",
       "    }\n",
       "\n",
       "    .dataframe tbody tr th {\n",
       "        vertical-align: top;\n",
       "    }\n",
       "\n",
       "    .dataframe thead th {\n",
       "        text-align: right;\n",
       "    }\n",
       "</style>\n",
       "<table border=\"1\" class=\"dataframe\">\n",
       "  <thead>\n",
       "    <tr style=\"text-align: right;\">\n",
       "      <th></th>\n",
       "      <th>Age</th>\n",
       "      <th>Sex</th>\n",
       "      <th>BP</th>\n",
       "      <th>Cholesterol</th>\n",
       "      <th>Na_to_K</th>\n",
       "      <th>Drug</th>\n",
       "    </tr>\n",
       "  </thead>\n",
       "  <tbody>\n",
       "    <tr>\n",
       "      <th>0</th>\n",
       "      <td>23</td>\n",
       "      <td>F</td>\n",
       "      <td>HIGH</td>\n",
       "      <td>HIGH</td>\n",
       "      <td>25.355</td>\n",
       "      <td>DrugY</td>\n",
       "    </tr>\n",
       "    <tr>\n",
       "      <th>1</th>\n",
       "      <td>47</td>\n",
       "      <td>M</td>\n",
       "      <td>LOW</td>\n",
       "      <td>HIGH</td>\n",
       "      <td>13.093</td>\n",
       "      <td>drugC</td>\n",
       "    </tr>\n",
       "    <tr>\n",
       "      <th>2</th>\n",
       "      <td>47</td>\n",
       "      <td>M</td>\n",
       "      <td>LOW</td>\n",
       "      <td>HIGH</td>\n",
       "      <td>10.114</td>\n",
       "      <td>drugC</td>\n",
       "    </tr>\n",
       "    <tr>\n",
       "      <th>3</th>\n",
       "      <td>28</td>\n",
       "      <td>F</td>\n",
       "      <td>NORMAL</td>\n",
       "      <td>HIGH</td>\n",
       "      <td>7.798</td>\n",
       "      <td>drugX</td>\n",
       "    </tr>\n",
       "    <tr>\n",
       "      <th>4</th>\n",
       "      <td>61</td>\n",
       "      <td>F</td>\n",
       "      <td>LOW</td>\n",
       "      <td>HIGH</td>\n",
       "      <td>18.043</td>\n",
       "      <td>DrugY</td>\n",
       "    </tr>\n",
       "  </tbody>\n",
       "</table>\n",
       "</div>"
      ],
      "text/plain": [
       "   Age Sex      BP Cholesterol  Na_to_K   Drug\n",
       "0   23   F    HIGH        HIGH   25.355  DrugY\n",
       "1   47   M     LOW        HIGH   13.093  drugC\n",
       "2   47   M     LOW        HIGH   10.114  drugC\n",
       "3   28   F  NORMAL        HIGH    7.798  drugX\n",
       "4   61   F     LOW        HIGH   18.043  DrugY"
      ]
     },
     "execution_count": 3,
     "metadata": {},
     "output_type": "execute_result"
    }
   ],
   "source": [
    "df_drug.head()"
   ]
  },
  {
   "cell_type": "markdown",
   "id": "8582f539",
   "metadata": {
    "papermill": {
     "duration": 0.060769,
     "end_time": "2021-11-05T03:02:45.859232",
     "exception": false,
     "start_time": "2021-11-05T03:02:45.798463",
     "status": "completed"
    },
    "tags": []
   },
   "source": [
    "👉 Data type and checking null in dataset."
   ]
  },
  {
   "cell_type": "code",
   "execution_count": 4,
   "id": "0b431c8e",
   "metadata": {
    "execution": {
     "iopub.execute_input": "2021-11-05T03:02:45.998071Z",
     "iopub.status.busy": "2021-11-05T03:02:45.996995Z",
     "iopub.status.idle": "2021-11-05T03:02:46.025259Z",
     "shell.execute_reply": "2021-11-05T03:02:46.026148Z",
     "shell.execute_reply.started": "2021-11-05T02:50:16.996265Z"
    },
    "id": "wxebQ3nmgaB0",
    "outputId": "af1044bc-7b6e-427b-a84e-f27302b254f3",
    "papermill": {
     "duration": 0.105966,
     "end_time": "2021-11-05T03:02:46.026535",
     "exception": false,
     "start_time": "2021-11-05T03:02:45.920569",
     "status": "completed"
    },
    "tags": []
   },
   "outputs": [
    {
     "name": "stdout",
     "output_type": "stream",
     "text": [
      "<class 'pandas.core.frame.DataFrame'>\n",
      "RangeIndex: 200 entries, 0 to 199\n",
      "Data columns (total 6 columns):\n",
      " #   Column       Non-Null Count  Dtype  \n",
      "---  ------       --------------  -----  \n",
      " 0   Age          200 non-null    int64  \n",
      " 1   Sex          200 non-null    object \n",
      " 2   BP           200 non-null    object \n",
      " 3   Cholesterol  200 non-null    object \n",
      " 4   Na_to_K      200 non-null    float64\n",
      " 5   Drug         200 non-null    object \n",
      "dtypes: float64(1), int64(1), object(4)\n",
      "memory usage: 9.5+ KB\n",
      "None\n"
     ]
    }
   ],
   "source": [
    "print(df_drug.info())"
   ]
  },
  {
   "cell_type": "markdown",
   "id": "553ed034",
   "metadata": {
    "id": "Q8UvtoqEiT99",
    "papermill": {
     "duration": 0.061257,
     "end_time": "2021-11-05T03:02:46.164207",
     "exception": false,
     "start_time": "2021-11-05T03:02:46.102950",
     "status": "completed"
    },
    "tags": []
   },
   "source": [
    "👉 From the results above, **there are no missing/null value** in this dataset"
   ]
  },
  {
   "cell_type": "markdown",
   "id": "b3240f91",
   "metadata": {
    "id": "PY0yjKQfgcar",
    "papermill": {
     "duration": 0.061764,
     "end_time": "2021-11-05T03:02:46.287075",
     "exception": false,
     "start_time": "2021-11-05T03:02:46.225311",
     "status": "completed"
    },
    "tags": []
   },
   "source": [
    "# 3. Initial Dataset Exploration 🔍\n",
    "👉 This section will explore raw dataset that has been imported."
   ]
  },
  {
   "cell_type": "markdown",
   "id": "944d7947",
   "metadata": {
    "id": "SIh-WZeDhSUk",
    "papermill": {
     "duration": 0.06276,
     "end_time": "2021-11-05T03:02:46.412981",
     "exception": false,
     "start_time": "2021-11-05T03:02:46.350221",
     "status": "completed"
    },
    "tags": []
   },
   "source": [
    "## 3.1 Categorical Variables 📊"
   ]
  },
  {
   "cell_type": "code",
   "execution_count": 5,
   "id": "dd4eb502",
   "metadata": {
    "execution": {
     "iopub.execute_input": "2021-11-05T03:02:46.542732Z",
     "iopub.status.busy": "2021-11-05T03:02:46.542090Z",
     "iopub.status.idle": "2021-11-05T03:02:46.548718Z",
     "shell.execute_reply": "2021-11-05T03:02:46.549375Z",
     "shell.execute_reply.started": "2021-11-05T02:50:17.013102Z"
    },
    "id": "1wxlj91AgzBZ",
    "outputId": "3cdb9d5e-8de3-43d1-c455-ad225572e8fb",
    "papermill": {
     "duration": 0.071839,
     "end_time": "2021-11-05T03:02:46.549536",
     "exception": false,
     "start_time": "2021-11-05T03:02:46.477697",
     "status": "completed"
    },
    "tags": []
   },
   "outputs": [
    {
     "data": {
      "text/plain": [
       "DrugY    91\n",
       "drugX    54\n",
       "drugA    23\n",
       "drugB    16\n",
       "drugC    16\n",
       "Name: Drug, dtype: int64"
      ]
     },
     "execution_count": 5,
     "metadata": {},
     "output_type": "execute_result"
    }
   ],
   "source": [
    "df_drug.Drug.value_counts()"
   ]
  },
  {
   "cell_type": "markdown",
   "id": "23a510e5",
   "metadata": {
    "papermill": {
     "duration": 0.060595,
     "end_time": "2021-11-05T03:02:46.671155",
     "exception": false,
     "start_time": "2021-11-05T03:02:46.610560",
     "status": "completed"
    },
    "tags": []
   },
   "source": [
    "👉 It can be seen that from results above, DrugY has more amount than other types of drugs"
   ]
  },
  {
   "cell_type": "code",
   "execution_count": 6,
   "id": "1d1afc34",
   "metadata": {
    "execution": {
     "iopub.execute_input": "2021-11-05T03:02:46.796638Z",
     "iopub.status.busy": "2021-11-05T03:02:46.795980Z",
     "iopub.status.idle": "2021-11-05T03:02:46.803008Z",
     "shell.execute_reply": "2021-11-05T03:02:46.803579Z",
     "shell.execute_reply.started": "2021-11-05T02:50:17.028722Z"
    },
    "id": "ztSS3uKSg-uU",
    "outputId": "14a73e4a-6bb8-424d-a3a6-db5b09956a07",
    "papermill": {
     "duration": 0.071416,
     "end_time": "2021-11-05T03:02:46.803742",
     "exception": false,
     "start_time": "2021-11-05T03:02:46.732326",
     "status": "completed"
    },
    "tags": []
   },
   "outputs": [
    {
     "data": {
      "text/plain": [
       "M    104\n",
       "F     96\n",
       "Name: Sex, dtype: int64"
      ]
     },
     "execution_count": 6,
     "metadata": {},
     "output_type": "execute_result"
    }
   ],
   "source": [
    "df_drug.Sex.value_counts()"
   ]
  },
  {
   "cell_type": "markdown",
   "id": "3182dc81",
   "metadata": {
    "papermill": {
     "duration": 0.061711,
     "end_time": "2021-11-05T03:02:46.927130",
     "exception": false,
     "start_time": "2021-11-05T03:02:46.865419",
     "status": "completed"
    },
    "tags": []
   },
   "source": [
    "👉 The distribution of patient gender is balanced."
   ]
  },
  {
   "cell_type": "code",
   "execution_count": 7,
   "id": "65215732",
   "metadata": {
    "execution": {
     "iopub.execute_input": "2021-11-05T03:02:47.053801Z",
     "iopub.status.busy": "2021-11-05T03:02:47.053147Z",
     "iopub.status.idle": "2021-11-05T03:02:47.059839Z",
     "shell.execute_reply": "2021-11-05T03:02:47.060524Z",
     "shell.execute_reply.started": "2021-11-05T02:50:17.045848Z"
    },
    "id": "mZYP8-0uhDbn",
    "outputId": "675b0123-3911-4aa8-825d-643523cd5e6d",
    "papermill": {
     "duration": 0.071917,
     "end_time": "2021-11-05T03:02:47.060689",
     "exception": false,
     "start_time": "2021-11-05T03:02:46.988772",
     "status": "completed"
    },
    "tags": []
   },
   "outputs": [
    {
     "data": {
      "text/plain": [
       "HIGH      77\n",
       "LOW       64\n",
       "NORMAL    59\n",
       "Name: BP, dtype: int64"
      ]
     },
     "execution_count": 7,
     "metadata": {},
     "output_type": "execute_result"
    }
   ],
   "source": [
    "df_drug.BP.value_counts()"
   ]
  },
  {
   "cell_type": "markdown",
   "id": "8b9d6549",
   "metadata": {
    "papermill": {
     "duration": 0.061372,
     "end_time": "2021-11-05T03:02:47.183944",
     "exception": false,
     "start_time": "2021-11-05T03:02:47.122572",
     "status": "completed"
    },
    "tags": []
   },
   "source": [
    "👉 The distribution of blood pressure level is balanced."
   ]
  },
  {
   "cell_type": "code",
   "execution_count": 8,
   "id": "49a19d6b",
   "metadata": {
    "execution": {
     "iopub.execute_input": "2021-11-05T03:02:47.310353Z",
     "iopub.status.busy": "2021-11-05T03:02:47.309691Z",
     "iopub.status.idle": "2021-11-05T03:02:47.316226Z",
     "shell.execute_reply": "2021-11-05T03:02:47.316846Z",
     "shell.execute_reply.started": "2021-11-05T02:50:17.060138Z"
    },
    "id": "trZ2eOuFhFXb",
    "outputId": "bb4ee139-66c3-4438-aa91-7340141d84ab",
    "papermill": {
     "duration": 0.071117,
     "end_time": "2021-11-05T03:02:47.317032",
     "exception": false,
     "start_time": "2021-11-05T03:02:47.245915",
     "status": "completed"
    },
    "tags": []
   },
   "outputs": [
    {
     "data": {
      "text/plain": [
       "HIGH      103\n",
       "NORMAL     97\n",
       "Name: Cholesterol, dtype: int64"
      ]
     },
     "execution_count": 8,
     "metadata": {},
     "output_type": "execute_result"
    }
   ],
   "source": [
    "df_drug.Cholesterol.value_counts()"
   ]
  },
  {
   "cell_type": "markdown",
   "id": "fa2ab4ba",
   "metadata": {
    "papermill": {
     "duration": 0.065117,
     "end_time": "2021-11-05T03:02:47.444152",
     "exception": false,
     "start_time": "2021-11-05T03:02:47.379035",
     "status": "completed"
    },
    "tags": []
   },
   "source": [
    "👉 The distribution of cholesterol level is balanced."
   ]
  },
  {
   "cell_type": "markdown",
   "id": "498a3f9e",
   "metadata": {
    "id": "pqvB06WYhV9o",
    "papermill": {
     "duration": 0.062525,
     "end_time": "2021-11-05T03:02:47.571028",
     "exception": false,
     "start_time": "2021-11-05T03:02:47.508503",
     "status": "completed"
    },
    "tags": []
   },
   "source": [
    "## 3.2 Numerical Variables 🔢\n",
    "👉 This section will show mean, count, std, min, max and others using describe function. The skewness value for each numerical variables will also shown in this section."
   ]
  },
  {
   "cell_type": "code",
   "execution_count": 9,
   "id": "4b02f5e1",
   "metadata": {
    "execution": {
     "iopub.execute_input": "2021-11-05T03:02:47.699723Z",
     "iopub.status.busy": "2021-11-05T03:02:47.699071Z",
     "iopub.status.idle": "2021-11-05T03:02:47.716963Z",
     "shell.execute_reply": "2021-11-05T03:02:47.717537Z",
     "shell.execute_reply.started": "2021-11-05T02:50:17.075381Z"
    },
    "id": "1ugOd6wihXjS",
    "outputId": "3b43acfc-2a4b-42b7-9b24-3d9273a591b9",
    "papermill": {
     "duration": 0.08373,
     "end_time": "2021-11-05T03:02:47.717709",
     "exception": false,
     "start_time": "2021-11-05T03:02:47.633979",
     "status": "completed"
    },
    "tags": []
   },
   "outputs": [
    {
     "data": {
      "text/html": [
       "<div>\n",
       "<style scoped>\n",
       "    .dataframe tbody tr th:only-of-type {\n",
       "        vertical-align: middle;\n",
       "    }\n",
       "\n",
       "    .dataframe tbody tr th {\n",
       "        vertical-align: top;\n",
       "    }\n",
       "\n",
       "    .dataframe thead th {\n",
       "        text-align: right;\n",
       "    }\n",
       "</style>\n",
       "<table border=\"1\" class=\"dataframe\">\n",
       "  <thead>\n",
       "    <tr style=\"text-align: right;\">\n",
       "      <th></th>\n",
       "      <th>Age</th>\n",
       "      <th>Na_to_K</th>\n",
       "    </tr>\n",
       "  </thead>\n",
       "  <tbody>\n",
       "    <tr>\n",
       "      <th>count</th>\n",
       "      <td>200.000000</td>\n",
       "      <td>200.000000</td>\n",
       "    </tr>\n",
       "    <tr>\n",
       "      <th>mean</th>\n",
       "      <td>44.315000</td>\n",
       "      <td>16.084485</td>\n",
       "    </tr>\n",
       "    <tr>\n",
       "      <th>std</th>\n",
       "      <td>16.544315</td>\n",
       "      <td>7.223956</td>\n",
       "    </tr>\n",
       "    <tr>\n",
       "      <th>min</th>\n",
       "      <td>15.000000</td>\n",
       "      <td>6.269000</td>\n",
       "    </tr>\n",
       "    <tr>\n",
       "      <th>25%</th>\n",
       "      <td>31.000000</td>\n",
       "      <td>10.445500</td>\n",
       "    </tr>\n",
       "    <tr>\n",
       "      <th>50%</th>\n",
       "      <td>45.000000</td>\n",
       "      <td>13.936500</td>\n",
       "    </tr>\n",
       "    <tr>\n",
       "      <th>75%</th>\n",
       "      <td>58.000000</td>\n",
       "      <td>19.380000</td>\n",
       "    </tr>\n",
       "    <tr>\n",
       "      <th>max</th>\n",
       "      <td>74.000000</td>\n",
       "      <td>38.247000</td>\n",
       "    </tr>\n",
       "  </tbody>\n",
       "</table>\n",
       "</div>"
      ],
      "text/plain": [
       "              Age     Na_to_K\n",
       "count  200.000000  200.000000\n",
       "mean    44.315000   16.084485\n",
       "std     16.544315    7.223956\n",
       "min     15.000000    6.269000\n",
       "25%     31.000000   10.445500\n",
       "50%     45.000000   13.936500\n",
       "75%     58.000000   19.380000\n",
       "max     74.000000   38.247000"
      ]
     },
     "execution_count": 9,
     "metadata": {},
     "output_type": "execute_result"
    }
   ],
   "source": [
    "df_drug.describe()"
   ]
  },
  {
   "cell_type": "code",
   "execution_count": 10,
   "id": "43aa4107",
   "metadata": {
    "execution": {
     "iopub.execute_input": "2021-11-05T03:02:47.851621Z",
     "iopub.status.busy": "2021-11-05T03:02:47.850627Z",
     "iopub.status.idle": "2021-11-05T03:02:47.854150Z",
     "shell.execute_reply": "2021-11-05T03:02:47.854701Z",
     "shell.execute_reply.started": "2021-11-05T02:50:17.102905Z"
    },
    "id": "BdcdYKewh3Qt",
    "outputId": "ae01b06a-9274-460e-fb0b-edd502c3c83f",
    "papermill": {
     "duration": 0.073435,
     "end_time": "2021-11-05T03:02:47.854894",
     "exception": false,
     "start_time": "2021-11-05T03:02:47.781459",
     "status": "completed"
    },
    "tags": []
   },
   "outputs": [
    {
     "name": "stdout",
     "output_type": "stream",
     "text": [
      "Age skewness:  0.03030835703000607\n"
     ]
    }
   ],
   "source": [
    "skewAge = df_drug.Age.skew(axis = 0, skipna = True)\n",
    "print('Age skewness: ', skewAge)"
   ]
  },
  {
   "cell_type": "code",
   "execution_count": 11,
   "id": "1c277772",
   "metadata": {
    "execution": {
     "iopub.execute_input": "2021-11-05T03:02:47.988604Z",
     "iopub.status.busy": "2021-11-05T03:02:47.987688Z",
     "iopub.status.idle": "2021-11-05T03:02:47.991363Z",
     "shell.execute_reply": "2021-11-05T03:02:47.991983Z",
     "shell.execute_reply.started": "2021-11-05T02:50:17.129911Z"
    },
    "id": "RH84R0yyiD8o",
    "outputId": "dc45607b-1db3-49f7-d4da-1eb1ffc15a17",
    "papermill": {
     "duration": 0.073722,
     "end_time": "2021-11-05T03:02:47.992160",
     "exception": false,
     "start_time": "2021-11-05T03:02:47.918438",
     "status": "completed"
    },
    "tags": []
   },
   "outputs": [
    {
     "name": "stdout",
     "output_type": "stream",
     "text": [
      "Na to K skewness:  1.039341186028881\n"
     ]
    }
   ],
   "source": [
    "skewNatoK = df_drug.Na_to_K.skew(axis = 0, skipna = True)\n",
    "print('Na to K skewness: ', skewNatoK)"
   ]
  },
  {
   "cell_type": "code",
   "execution_count": 12,
   "id": "efae7993",
   "metadata": {
    "execution": {
     "iopub.execute_input": "2021-11-05T03:02:48.124939Z",
     "iopub.status.busy": "2021-11-05T03:02:48.123918Z",
     "iopub.status.idle": "2021-11-05T03:02:48.442595Z",
     "shell.execute_reply": "2021-11-05T03:02:48.441815Z",
     "shell.execute_reply.started": "2021-11-05T02:50:17.137061Z"
    },
    "id": "x3x2nvtOlXmL",
    "outputId": "5fd63e16-3d93-47fa-fb4b-9ef9ab3c3da7",
    "papermill": {
     "duration": 0.386179,
     "end_time": "2021-11-05T03:02:48.442752",
     "exception": false,
     "start_time": "2021-11-05T03:02:48.056573",
     "status": "completed"
    },
    "tags": []
   },
   "outputs": [
    {
     "name": "stderr",
     "output_type": "stream",
     "text": [
      "C:\\Users\\patri\\anaconda3\\lib\\site-packages\\seaborn\\distributions.py:2557: FutureWarning: `distplot` is a deprecated function and will be removed in a future version. Please adapt your code to use either `displot` (a figure-level function with similar flexibility) or `histplot` (an axes-level function for histograms).\n",
      "  warnings.warn(msg, FutureWarning)\n"
     ]
    },
    {
     "data": {
      "text/plain": [
       "<AxesSubplot:xlabel='Age', ylabel='Density'>"
      ]
     },
     "execution_count": 12,
     "metadata": {},
     "output_type": "execute_result"
    },
    {
     "data": {
      "image/png": "[encoded data removed]",
      "text/plain": [
       "<Figure size 432x288 with 1 Axes>"
      ]
     },
     "metadata": {
      "needs_background": "light"
     },
     "output_type": "display_data"
    }
   ],
   "source": [
    "sns.distplot(df_drug['Age'])"
   ]
  },
  {
   "cell_type": "code",
   "execution_count": 13,
   "id": "cc473fa1",
   "metadata": {
    "execution": {
     "iopub.execute_input": "2021-11-05T03:02:48.579119Z",
     "iopub.status.busy": "2021-11-05T03:02:48.578068Z",
     "iopub.status.idle": "2021-11-05T03:02:48.845727Z",
     "shell.execute_reply": "2021-11-05T03:02:48.846248Z",
     "shell.execute_reply.started": "2021-11-05T02:50:17.438238Z"
    },
    "id": "1Ntxk96ulaeQ",
    "outputId": "f2034c45-36b0-4189-f637-bd6e4009a7c7",
    "papermill": {
     "duration": 0.337387,
     "end_time": "2021-11-05T03:02:48.846453",
     "exception": false,
     "start_time": "2021-11-05T03:02:48.509066",
     "status": "completed"
    },
    "tags": []
   },
   "outputs": [
    {
     "name": "stderr",
     "output_type": "stream",
     "text": [
      "C:\\Users\\patri\\anaconda3\\lib\\site-packages\\seaborn\\distributions.py:2557: FutureWarning: `distplot` is a deprecated function and will be removed in a future version. Please adapt your code to use either `displot` (a figure-level function with similar flexibility) or `histplot` (an axes-level function for histograms).\n",
      "  warnings.warn(msg, FutureWarning)\n"
     ]
    },
    {
     "data": {
      "text/plain": [
       "<AxesSubplot:xlabel='Na_to_K', ylabel='Density'>"
      ]
     },
     "execution_count": 13,
     "metadata": {},
     "output_type": "execute_result"
    },
    {
     "data": {
      "image/png": "[encoded data removed]",
      "text/plain": [
       "<Figure size 432x288 with 1 Axes>"
      ]
     },
     "metadata": {
      "needs_background": "light"
     },
     "output_type": "display_data"
    }
   ],
   "source": [
    "sns.distplot(df_drug['Na_to_K'])"
   ]
  },
  {
   "cell_type": "markdown",
   "id": "b12ae2c2",
   "metadata": {
    "id": "eAQzoK6VkbbM",
    "papermill": {
     "duration": 0.067115,
     "end_time": "2021-11-05T03:02:48.980939",
     "exception": false,
     "start_time": "2021-11-05T03:02:48.913824",
     "status": "completed"
    },
    "tags": []
   },
   "source": [
    "👉The distribution of **'Age'** column is **symetric**, since the skewness value  between -0.5 and 0.5 <br>\n",
    "👉The distribution of **'Na_to_K'** column is **moderately skewed**, since the skewness value is ***between 0.5 and 1***. It can also be seen from the histogram for 'Na_to_K' column"
   ]
  },
  {
   "cell_type": "markdown",
   "id": "6dac88c0",
   "metadata": {
    "id": "MWjpuZDGiNrb",
    "papermill": {
     "duration": 0.069331,
     "end_time": "2021-11-05T03:02:49.118693",
     "exception": false,
     "start_time": "2021-11-05T03:02:49.049362",
     "status": "completed"
    },
    "tags": []
   },
   "source": [
    "# 4. EDA 📊\n",
    "👉 This section will explore variables in the dataset using different various plots/charts."
   ]
  },
  {
   "cell_type": "markdown",
   "id": "0aad9244",
   "metadata": {
    "papermill": {
     "duration": 0.06718,
     "end_time": "2021-11-05T03:02:49.253700",
     "exception": false,
     "start_time": "2021-11-05T03:02:49.186520",
     "status": "completed"
    },
    "tags": []
   },
   "source": [
    "## 4.1 Drug Type Distribution 💊"
   ]
  },
  {
   "cell_type": "code",
   "execution_count": 14,
   "id": "f8823751",
   "metadata": {
    "execution": {
     "iopub.execute_input": "2021-11-05T03:02:49.390973Z",
     "iopub.status.busy": "2021-11-05T03:02:49.389908Z",
     "iopub.status.idle": "2021-11-05T03:02:49.655071Z",
     "shell.execute_reply": "2021-11-05T03:02:49.655739Z",
     "shell.execute_reply.started": "2021-11-05T02:50:17.704027Z"
    },
    "id": "3b7RwO3rnH-u",
    "outputId": "897c3176-e73e-40b4-f2f3-021f8aac0055",
    "papermill": {
     "duration": 0.335943,
     "end_time": "2021-11-05T03:02:49.655946",
     "exception": false,
     "start_time": "2021-11-05T03:02:49.320003",
     "status": "completed"
    },
    "tags": []
   },
   "outputs": [
    {
     "data": {
      "image/png": "[encoded data removed]",
      "text/plain": [
       "<Figure size 432x288 with 1 Axes>"
      ]
     },
     "metadata": {},
     "output_type": "display_data"
    }
   ],
   "source": [
    "sns.set_theme(style=\"darkgrid\")\n",
    "sns.countplot(y=\"Drug\", data=df_drug, palette=\"flare\")\n",
    "plt.ylabel('Drug Type')\n",
    "plt.xlabel('Total')\n",
    "plt.show()"
   ]
  },
  {
   "cell_type": "markdown",
   "id": "bcc88b83",
   "metadata": {
    "papermill": {
     "duration": 0.068194,
     "end_time": "2021-11-05T03:02:49.792644",
     "exception": false,
     "start_time": "2021-11-05T03:02:49.724450",
     "status": "completed"
    },
    "tags": []
   },
   "source": [
    "## 4.2 Gender Distribution 👫"
   ]
  },
  {
   "cell_type": "code",
   "execution_count": 15,
   "id": "2eb1c83b",
   "metadata": {
    "execution": {
     "iopub.execute_input": "2021-11-05T03:02:49.971811Z",
     "iopub.status.busy": "2021-11-05T03:02:49.968037Z",
     "iopub.status.idle": "2021-11-05T03:02:50.134794Z",
     "shell.execute_reply": "2021-11-05T03:02:50.134250Z",
     "shell.execute_reply.started": "2021-11-05T02:50:17.890262Z"
    },
    "id": "FQktCCnppjoN",
    "outputId": "06d55514-5a7c-4b7e-8e5a-bf4bac3cf026",
    "papermill": {
     "duration": 0.274245,
     "end_time": "2021-11-05T03:02:50.134989",
     "exception": false,
     "start_time": "2021-11-05T03:02:49.860744",
     "status": "completed"
    },
    "tags": []
   },
   "outputs": [
    {
     "data": {
      "image/png": "[encoded data removed]",
      "text/plain": [
       "<Figure size 432x288 with 1 Axes>"
      ]
     },
     "metadata": {},
     "output_type": "display_data"
    }
   ],
   "source": [
    "sns.set_theme(style=\"darkgrid\")\n",
    "sns.countplot(x=\"Sex\", data=df_drug, palette=\"rocket\")\n",
    "plt.xlabel('Gender (F=Female, M=Male)')\n",
    "plt.ylabel('Total')\n",
    "plt.show()"
   ]
  },
  {
   "cell_type": "markdown",
   "id": "76e17d56",
   "metadata": {
    "papermill": {
     "duration": 0.070203,
     "end_time": "2021-11-05T03:02:50.274425",
     "exception": false,
     "start_time": "2021-11-05T03:02:50.204222",
     "status": "completed"
    },
    "tags": []
   },
   "source": [
    "## 4.3 Blood Pressure Distribution 🩸"
   ]
  },
  {
   "cell_type": "code",
   "execution_count": 16,
   "id": "6cd61015",
   "metadata": {
    "execution": {
     "iopub.execute_input": "2021-11-05T03:02:50.423764Z",
     "iopub.status.busy": "2021-11-05T03:02:50.422909Z",
     "iopub.status.idle": "2021-11-05T03:02:50.703098Z",
     "shell.execute_reply": "2021-11-05T03:02:50.703641Z",
     "shell.execute_reply.started": "2021-11-05T02:50:18.029699Z"
    },
    "id": "qoN-IX-W2n2e",
    "outputId": "0ec37f75-4fca-440b-d03e-c14f62394b58",
    "papermill": {
     "duration": 0.359628,
     "end_time": "2021-11-05T03:02:50.703831",
     "exception": false,
     "start_time": "2021-11-05T03:02:50.344203",
     "status": "completed"
    },
    "tags": []
   },
   "outputs": [
    {
     "data": {
      "image/png": "[encoded data removed]",
      "text/plain": [
       "<Figure size 432x288 with 1 Axes>"
      ]
     },
     "metadata": {},
     "output_type": "display_data"
    }
   ],
   "source": [
    "sns.set_theme(style=\"darkgrid\")\n",
    "sns.countplot(y=\"BP\", data=df_drug, palette=\"crest\")\n",
    "plt.ylabel('Blood Pressure')\n",
    "plt.xlabel('Total')\n",
    "plt.show()"
   ]
  },
  {
   "cell_type": "markdown",
   "id": "38b6d2ca",
   "metadata": {
    "papermill": {
     "duration": 0.069674,
     "end_time": "2021-11-05T03:02:50.842860",
     "exception": false,
     "start_time": "2021-11-05T03:02:50.773186",
     "status": "completed"
    },
    "tags": []
   },
   "source": [
    "## 4.4 Cholesterol Distribution 🥛"
   ]
  },
  {
   "cell_type": "code",
   "execution_count": 17,
   "id": "0bc1b651",
   "metadata": {
    "execution": {
     "iopub.execute_input": "2021-11-05T03:02:50.984177Z",
     "iopub.status.busy": "2021-11-05T03:02:50.983526Z",
     "iopub.status.idle": "2021-11-05T03:02:51.183397Z",
     "shell.execute_reply": "2021-11-05T03:02:51.184026Z",
     "shell.execute_reply.started": "2021-11-05T02:50:18.233833Z"
    },
    "id": "8knVYttd26h1",
    "outputId": "631738e6-1682-4751-fab1-f22dd5e7480e",
    "papermill": {
     "duration": 0.272161,
     "end_time": "2021-11-05T03:02:51.184212",
     "exception": false,
     "start_time": "2021-11-05T03:02:50.912051",
     "status": "completed"
    },
    "tags": []
   },
   "outputs": [
    {
     "data": {
      "image/png": "[encoded data removed]",
      "text/plain": [
       "<Figure size 432x288 with 1 Axes>"
      ]
     },
     "metadata": {},
     "output_type": "display_data"
    }
   ],
   "source": [
    "sns.set_theme(style=\"darkgrid\")\n",
    "sns.countplot(x=\"Cholesterol\", data=df_drug, palette=\"magma\")\n",
    "plt.xlabel('Blood Pressure')\n",
    "plt.ylabel('Total')\n",
    "plt.show()"
   ]
  },
  {
   "cell_type": "markdown",
   "id": "df7eb40c",
   "metadata": {
    "papermill": {
     "duration": 0.071889,
     "end_time": "2021-11-05T03:02:51.327017",
     "exception": false,
     "start_time": "2021-11-05T03:02:51.255128",
     "status": "completed"
    },
    "tags": []
   },
   "source": [
    "## 4.5 Gender Distribution based on Drug Type 👫💊"
   ]
  },
  {
   "cell_type": "code",
   "execution_count": 18,
   "id": "101f63b3",
   "metadata": {
    "execution": {
     "iopub.execute_input": "2021-11-05T03:02:51.471717Z",
     "iopub.status.busy": "2021-11-05T03:02:51.471026Z",
     "iopub.status.idle": "2021-11-05T03:02:51.912277Z",
     "shell.execute_reply": "2021-11-05T03:02:51.911573Z",
     "shell.execute_reply.started": "2021-11-05T02:50:18.368078Z"
    },
    "id": "T47gXdj9pxD8",
    "outputId": "613b2fc7-715a-4d1e-b1c6-97c8aa8188c0",
    "papermill": {
     "duration": 0.514798,
     "end_time": "2021-11-05T03:02:51.912426",
     "exception": false,
     "start_time": "2021-11-05T03:02:51.397628",
     "status": "completed"
    },
    "tags": []
   },
   "outputs": [
    {
     "data": {
      "image/png": "[encoded data removed]",
      "text/plain": [
       "<Figure size 864x360 with 1 Axes>"
      ]
     },
     "metadata": {},
     "output_type": "display_data"
    }
   ],
   "source": [
    "pd.crosstab(df_drug.Sex,df_drug.Drug).plot(kind=\"bar\",figsize=(12,5),color=['#003f5c','#ffa600','#58508d','#bc5090','#ff6361'])\n",
    "plt.title('Gender distribution based on Drug type')\n",
    "plt.xlabel('Gender')\n",
    "plt.xticks(rotation=0)\n",
    "plt.ylabel('Frequency')\n",
    "plt.show()"
   ]
  },
  {
   "cell_type": "markdown",
   "id": "4e382043",
   "metadata": {
    "papermill": {
     "duration": 0.07167,
     "end_time": "2021-11-05T03:02:52.055427",
     "exception": false,
     "start_time": "2021-11-05T03:02:51.983757",
     "status": "completed"
    },
    "tags": []
   },
   "source": [
    "## 4.6 Blood Pressure Distribution based on Cholesetrol 🩸🥛"
   ]
  },
  {
   "cell_type": "code",
   "execution_count": 20,
   "id": "46000c50",
   "metadata": {
    "execution": {
     "iopub.execute_input": "2021-11-05T03:02:52.214485Z",
     "iopub.status.busy": "2021-11-05T03:02:52.213719Z",
     "iopub.status.idle": "2021-11-05T03:02:52.515991Z",
     "shell.execute_reply": "2021-11-05T03:02:52.515395Z",
     "shell.execute_reply.started": "2021-11-05T02:50:18.604153Z"
    },
    "id": "bg01FIf75DRW",
    "outputId": "8229c516-627c-417c-f202-75eada15c5ed",
    "papermill": {
     "duration": 0.388085,
     "end_time": "2021-11-05T03:02:52.516147",
     "exception": false,
     "start_time": "2021-11-05T03:02:52.128062",
     "status": "completed"
    },
    "tags": []
   },
   "outputs": [
    {
     "data": {
      "image/png": "[encoded data removed]",
      "text/plain": [
       "<Figure size 1080x432 with 1 Axes>"
      ]
     },
     "metadata": {},
     "output_type": "display_data"
    }
   ],
   "source": [
    "pd.crosstab(df_drug.BP,df_drug.Cholesterol).plot(kind=\"bar\",figsize=(15,6),color=['#6929c4','#1192e8'])\n",
    "plt.title('Blood Pressure distribution based on Cholesterol')\n",
    "plt.xlabel('Blood Pressure')\n",
    "plt.xticks(rotation=0)\n",
    "plt.ylabel('Frequency')\n",
    "plt.show()"
   ]
  },
  {
   "cell_type": "markdown",
   "id": "5413e3c6",
   "metadata": {
    "papermill": {
     "duration": 0.072484,
     "end_time": "2021-11-05T03:02:52.662912",
     "exception": false,
     "start_time": "2021-11-05T03:02:52.590428",
     "status": "completed"
    },
    "tags": []
   },
   "source": [
    "## 4.7 Sodium to Potassium Distribution based on Gender and Age 🧪👫👴"
   ]
  },
  {
   "cell_type": "code",
   "execution_count": 21,
   "id": "ea0f7eab",
   "metadata": {
    "execution": {
     "iopub.execute_input": "2021-11-05T03:02:52.812015Z",
     "iopub.status.busy": "2021-11-05T03:02:52.811287Z",
     "iopub.status.idle": "2021-11-05T03:02:53.189492Z",
     "shell.execute_reply": "2021-11-05T03:02:53.190155Z",
     "shell.execute_reply.started": "2021-11-05T02:50:18.842045Z"
    },
    "id": "Lz49pj9X7ZTS",
    "outputId": "6ec43790-0bbd-40b6-f86d-1d582b34f11a",
    "papermill": {
     "duration": 0.45464,
     "end_time": "2021-11-05T03:02:53.190337",
     "exception": false,
     "start_time": "2021-11-05T03:02:52.735697",
     "status": "completed"
    },
    "tags": []
   },
   "outputs": [
    {
     "data": {
      "image/png": "[encoded data removed]",
      "text/plain": [
       "<Figure size 432x288 with 1 Axes>"
      ]
     },
     "metadata": {},
     "output_type": "display_data"
    }
   ],
   "source": [
    "plt.scatter(x=df_drug.Age[df_drug.Sex=='F'], y=df_drug.Na_to_K[(df_drug.Sex=='F')], c=\"Blue\")\n",
    "plt.scatter(x=df_drug.Age[df_drug.Sex=='M'], y=df_drug.Na_to_K[(df_drug.Sex=='M')], c=\"Orange\")\n",
    "plt.legend([\"Female\", \"Male\"])\n",
    "plt.xlabel(\"Age\")\n",
    "plt.ylabel(\"Na_to_K\")\n",
    "plt.show()"
   ]
  },
  {
   "cell_type": "markdown",
   "id": "22e7a587",
   "metadata": {
    "id": "vwJ_hPlzl32j",
    "papermill": {
     "duration": 0.073819,
     "end_time": "2021-11-05T03:02:53.337061",
     "exception": false,
     "start_time": "2021-11-05T03:02:53.263242",
     "status": "completed"
    },
    "tags": []
   },
   "source": [
    "# 6. Dataset Preparation ⚙\n",
    "👉 This section will prepare the dataset before building the machine learning models."
   ]
  },
  {
   "cell_type": "markdown",
   "id": "a9ac3c0d",
   "metadata": {
    "id": "ozM4xmd5mSrn",
    "papermill": {
     "duration": 0.073219,
     "end_time": "2021-11-05T03:02:53.483702",
     "exception": false,
     "start_time": "2021-11-05T03:02:53.410483",
     "status": "completed"
    },
    "tags": []
   },
   "source": [
    "## 6.1 Data Binning 🚮"
   ]
  },
  {
   "cell_type": "markdown",
   "id": "75d40d7b",
   "metadata": {
    "id": "NOZNMiUsm058",
    "papermill": {
     "duration": 0.084542,
     "end_time": "2021-11-05T03:02:53.649737",
     "exception": false,
     "start_time": "2021-11-05T03:02:53.565195",
     "status": "completed"
    },
    "tags": []
   },
   "source": [
    "### 6.1.1 Age 👴\n",
    "👉 The age will be divided into **7 age categories**:\n",
    "*  Below 20 y.o.\n",
    "*  20 - 29 y.o.\n",
    "*  30 - 39 y.o.\n",
    "*  40 - 49 y.o.\n",
    "*  50 - 59 y.o.\n",
    "*  60 - 69 y.o.\n",
    "*  Above 70."
   ]
  },
  {
   "cell_type": "code",
   "execution_count": 22,
   "id": "17babb32",
   "metadata": {
    "execution": {
     "iopub.execute_input": "2021-11-05T03:02:53.806287Z",
     "iopub.status.busy": "2021-11-05T03:02:53.805547Z",
     "iopub.status.idle": "2021-11-05T03:02:53.814264Z",
     "shell.execute_reply": "2021-11-05T03:02:53.814899Z",
     "shell.execute_reply.started": "2021-11-05T02:50:19.124399Z"
    },
    "id": "CDg1nDQamzvu",
    "papermill": {
     "duration": 0.085425,
     "end_time": "2021-11-05T03:02:53.815077",
     "exception": false,
     "start_time": "2021-11-05T03:02:53.729652",
     "status": "completed"
    },
    "tags": []
   },
   "outputs": [],
   "source": [
    "bin_age = [0, 19, 29, 39, 49, 59, 69, 80]\n",
    "category_age = ['<20s', '20s', '30s', '40s', '50s', '60s', '>60s']\n",
    "df_drug['Age_binned'] = pd.cut(df_drug['Age'], bins=bin_age, labels=category_age)\n",
    "df_drug = df_drug.drop(['Age'], axis = 1)"
   ]
  },
  {
   "cell_type": "markdown",
   "id": "69cbe831",
   "metadata": {
    "id": "3CcOt0Ilm4C8",
    "papermill": {
     "duration": 0.075653,
     "end_time": "2021-11-05T03:02:53.963546",
     "exception": false,
     "start_time": "2021-11-05T03:02:53.887893",
     "status": "completed"
    },
    "tags": []
   },
   "source": [
    "### 6.1.2 Na_to_K 🧪\n",
    "👉 The chemical ratio will be divided into **4 categories**:\n",
    "*  Below 10.\n",
    "*  10 - 20.\n",
    "*  20 - 30.\n",
    "*  Above 30."
   ]
  },
  {
   "cell_type": "code",
   "execution_count": 23,
   "id": "7cae1afa",
   "metadata": {
    "execution": {
     "iopub.execute_input": "2021-11-05T03:02:54.120172Z",
     "iopub.status.busy": "2021-11-05T03:02:54.117475Z",
     "iopub.status.idle": "2021-11-05T03:02:54.123275Z",
     "shell.execute_reply": "2021-11-05T03:02:54.122704Z",
     "shell.execute_reply.started": "2021-11-05T02:50:19.136230Z"
    },
    "id": "bhoBfPl3m9zN",
    "papermill": {
     "duration": 0.08699,
     "end_time": "2021-11-05T03:02:54.123495",
     "exception": false,
     "start_time": "2021-11-05T03:02:54.036505",
     "status": "completed"
    },
    "tags": []
   },
   "outputs": [],
   "source": [
    "bin_NatoK = [0, 9, 19, 29, 50]\n",
    "category_NatoK = ['<10', '10-20', '20-30', '>30']\n",
    "df_drug['Na_to_K_binned'] = pd.cut(df_drug['Na_to_K'], bins=bin_NatoK, labels=category_NatoK)\n",
    "df_drug = df_drug.drop(['Na_to_K'], axis = 1)"
   ]
  },
  {
   "cell_type": "markdown",
   "id": "06eee30b",
   "metadata": {
    "id": "ts4FHhNuyZ3G",
    "papermill": {
     "duration": 0.074633,
     "end_time": "2021-11-05T03:02:54.277145",
     "exception": false,
     "start_time": "2021-11-05T03:02:54.202512",
     "status": "completed"
    },
    "tags": []
   },
   "source": [
    "## 6.2 Splitting the dataset 🪓\n",
    "👉 The dataset will be split into **70% training and 30% testing**."
   ]
  },
  {
   "cell_type": "code",
   "execution_count": 24,
   "id": "65304e06",
   "metadata": {
    "execution": {
     "iopub.execute_input": "2021-11-05T03:02:54.433831Z",
     "iopub.status.busy": "2021-11-05T03:02:54.433135Z",
     "iopub.status.idle": "2021-11-05T03:02:54.592315Z",
     "shell.execute_reply": "2021-11-05T03:02:54.591667Z",
     "shell.execute_reply.started": "2021-11-05T02:50:19.154802Z"
    },
    "id": "8b9Slzpdycfy",
    "papermill": {
     "duration": 0.239377,
     "end_time": "2021-11-05T03:02:54.592466",
     "exception": false,
     "start_time": "2021-11-05T03:02:54.353089",
     "status": "completed"
    },
    "tags": []
   },
   "outputs": [],
   "source": [
    "from sklearn.metrics import confusion_matrix\n",
    "from sklearn.metrics import classification_report"
   ]
  },
  {
   "cell_type": "code",
   "execution_count": 35,
   "id": "2c29dcfa",
   "metadata": {
    "execution": {
     "iopub.execute_input": "2021-11-05T03:02:54.744533Z",
     "iopub.status.busy": "2021-11-05T03:02:54.743766Z",
     "iopub.status.idle": "2021-11-05T03:02:54.764734Z",
     "shell.execute_reply": "2021-11-05T03:02:54.765358Z",
     "shell.execute_reply.started": "2021-11-05T02:50:19.173627Z"
    },
    "id": "8Ryn2U0Syvo5",
    "papermill": {
     "duration": 0.1007,
     "end_time": "2021-11-05T03:02:54.765545",
     "exception": false,
     "start_time": "2021-11-05T03:02:54.664845",
     "status": "completed"
    },
    "tags": []
   },
   "outputs": [],
   "source": [
    "X = df_drug.drop([\"Drug\"], axis=1)\n",
    "y = df_drug[\"Drug\"]\n",
    "\n",
    "from sklearn.model_selection import train_test_split\n",
    "X_train, X_test, y_train, y_test = train_test_split(X, y, test_size = 0.35, random_state = 0)"
   ]
  },
  {
   "cell_type": "markdown",
   "id": "6915c496",
   "metadata": {
    "id": "pUab4khX2beO",
    "papermill": {
     "duration": 0.072868,
     "end_time": "2021-11-05T03:02:54.911277",
     "exception": false,
     "start_time": "2021-11-05T03:02:54.838409",
     "status": "completed"
    },
    "tags": []
   },
   "source": [
    "## 6.3 Feature Engineering 🔧\n",
    "👉 The FE method that used is **one-hot encoding**, which is **transforming categorical variables into a form that could be provided to ML algorithms to do a better prediction**."
   ]
  },
  {
   "cell_type": "code",
   "execution_count": 36,
   "id": "3b576a9d",
   "metadata": {
    "execution": {
     "iopub.execute_input": "2021-11-05T03:02:55.060811Z",
     "iopub.status.busy": "2021-11-05T03:02:55.059807Z",
     "iopub.status.idle": "2021-11-05T03:02:55.075888Z",
     "shell.execute_reply": "2021-11-05T03:02:55.076400Z",
     "shell.execute_reply.started": "2021-11-05T02:50:19.189030Z"
    },
    "id": "E_RiMVZg2bH_",
    "papermill": {
     "duration": 0.092527,
     "end_time": "2021-11-05T03:02:55.076579",
     "exception": false,
     "start_time": "2021-11-05T03:02:54.984052",
     "status": "completed"
    },
    "tags": []
   },
   "outputs": [],
   "source": [
    "X_train = pd.get_dummies(X_train)\n",
    "X_test = pd.get_dummies(X_test)"
   ]
  },
  {
   "cell_type": "code",
   "execution_count": 37,
   "id": "1bccd6df",
   "metadata": {
    "execution": {
     "iopub.execute_input": "2021-11-05T03:02:55.230318Z",
     "iopub.status.busy": "2021-11-05T03:02:55.229211Z",
     "iopub.status.idle": "2021-11-05T03:02:55.246305Z",
     "shell.execute_reply": "2021-11-05T03:02:55.246800Z",
     "shell.execute_reply.started": "2021-11-05T02:50:19.214305Z"
    },
    "papermill": {
     "duration": 0.095579,
     "end_time": "2021-11-05T03:02:55.247010",
     "exception": false,
     "start_time": "2021-11-05T03:02:55.151431",
     "status": "completed"
    },
    "tags": []
   },
   "outputs": [
    {
     "data": {
      "text/html": [
       "<div>\n",
       "<style scoped>\n",
       "    .dataframe tbody tr th:only-of-type {\n",
       "        vertical-align: middle;\n",
       "    }\n",
       "\n",
       "    .dataframe tbody tr th {\n",
       "        vertical-align: top;\n",
       "    }\n",
       "\n",
       "    .dataframe thead th {\n",
       "        text-align: right;\n",
       "    }\n",
       "</style>\n",
       "<table border=\"1\" class=\"dataframe\">\n",
       "  <thead>\n",
       "    <tr style=\"text-align: right;\">\n",
       "      <th></th>\n",
       "      <th>Sex_F</th>\n",
       "      <th>Sex_M</th>\n",
       "      <th>BP_HIGH</th>\n",
       "      <th>BP_LOW</th>\n",
       "      <th>BP_NORMAL</th>\n",
       "      <th>Cholesterol_HIGH</th>\n",
       "      <th>Cholesterol_NORMAL</th>\n",
       "      <th>Age_binned_&lt;20s</th>\n",
       "      <th>Age_binned_20s</th>\n",
       "      <th>Age_binned_30s</th>\n",
       "      <th>Age_binned_40s</th>\n",
       "      <th>Age_binned_50s</th>\n",
       "      <th>Age_binned_60s</th>\n",
       "      <th>Age_binned_&gt;60s</th>\n",
       "      <th>Na_to_K_binned_&lt;10</th>\n",
       "      <th>Na_to_K_binned_10-20</th>\n",
       "      <th>Na_to_K_binned_20-30</th>\n",
       "      <th>Na_to_K_binned_&gt;30</th>\n",
       "    </tr>\n",
       "  </thead>\n",
       "  <tbody>\n",
       "    <tr>\n",
       "      <th>139</th>\n",
       "      <td>1</td>\n",
       "      <td>0</td>\n",
       "      <td>0</td>\n",
       "      <td>0</td>\n",
       "      <td>1</td>\n",
       "      <td>1</td>\n",
       "      <td>0</td>\n",
       "      <td>0</td>\n",
       "      <td>0</td>\n",
       "      <td>0</td>\n",
       "      <td>0</td>\n",
       "      <td>0</td>\n",
       "      <td>1</td>\n",
       "      <td>0</td>\n",
       "      <td>0</td>\n",
       "      <td>1</td>\n",
       "      <td>0</td>\n",
       "      <td>0</td>\n",
       "    </tr>\n",
       "    <tr>\n",
       "      <th>90</th>\n",
       "      <td>0</td>\n",
       "      <td>1</td>\n",
       "      <td>0</td>\n",
       "      <td>0</td>\n",
       "      <td>1</td>\n",
       "      <td>1</td>\n",
       "      <td>0</td>\n",
       "      <td>0</td>\n",
       "      <td>0</td>\n",
       "      <td>0</td>\n",
       "      <td>0</td>\n",
       "      <td>0</td>\n",
       "      <td>1</td>\n",
       "      <td>0</td>\n",
       "      <td>0</td>\n",
       "      <td>1</td>\n",
       "      <td>0</td>\n",
       "      <td>0</td>\n",
       "    </tr>\n",
       "    <tr>\n",
       "      <th>137</th>\n",
       "      <td>1</td>\n",
       "      <td>0</td>\n",
       "      <td>1</td>\n",
       "      <td>0</td>\n",
       "      <td>0</td>\n",
       "      <td>1</td>\n",
       "      <td>0</td>\n",
       "      <td>0</td>\n",
       "      <td>0</td>\n",
       "      <td>1</td>\n",
       "      <td>0</td>\n",
       "      <td>0</td>\n",
       "      <td>0</td>\n",
       "      <td>0</td>\n",
       "      <td>0</td>\n",
       "      <td>1</td>\n",
       "      <td>0</td>\n",
       "      <td>0</td>\n",
       "    </tr>\n",
       "    <tr>\n",
       "      <th>101</th>\n",
       "      <td>1</td>\n",
       "      <td>0</td>\n",
       "      <td>1</td>\n",
       "      <td>0</td>\n",
       "      <td>0</td>\n",
       "      <td>1</td>\n",
       "      <td>0</td>\n",
       "      <td>0</td>\n",
       "      <td>0</td>\n",
       "      <td>0</td>\n",
       "      <td>1</td>\n",
       "      <td>0</td>\n",
       "      <td>0</td>\n",
       "      <td>0</td>\n",
       "      <td>0</td>\n",
       "      <td>1</td>\n",
       "      <td>0</td>\n",
       "      <td>0</td>\n",
       "    </tr>\n",
       "    <tr>\n",
       "      <th>144</th>\n",
       "      <td>0</td>\n",
       "      <td>1</td>\n",
       "      <td>1</td>\n",
       "      <td>0</td>\n",
       "      <td>0</td>\n",
       "      <td>1</td>\n",
       "      <td>0</td>\n",
       "      <td>0</td>\n",
       "      <td>0</td>\n",
       "      <td>1</td>\n",
       "      <td>0</td>\n",
       "      <td>0</td>\n",
       "      <td>0</td>\n",
       "      <td>0</td>\n",
       "      <td>0</td>\n",
       "      <td>1</td>\n",
       "      <td>0</td>\n",
       "      <td>0</td>\n",
       "    </tr>\n",
       "  </tbody>\n",
       "</table>\n",
       "</div>"
      ],
      "text/plain": [
       "     Sex_F  Sex_M  BP_HIGH  BP_LOW  BP_NORMAL  Cholesterol_HIGH  \\\n",
       "139      1      0        0       0          1                 1   \n",
       "90       0      1        0       0          1                 1   \n",
       "137      1      0        1       0          0                 1   \n",
       "101      1      0        1       0          0                 1   \n",
       "144      0      1        1       0          0                 1   \n",
       "\n",
       "     Cholesterol_NORMAL  Age_binned_<20s  Age_binned_20s  Age_binned_30s  \\\n",
       "139                   0                0               0               0   \n",
       "90                    0                0               0               0   \n",
       "137                   0                0               0               1   \n",
       "101                   0                0               0               0   \n",
       "144                   0                0               0               1   \n",
       "\n",
       "     Age_binned_40s  Age_binned_50s  Age_binned_60s  Age_binned_>60s  \\\n",
       "139               0               0               1                0   \n",
       "90                0               0               1                0   \n",
       "137               0               0               0                0   \n",
       "101               1               0               0                0   \n",
       "144               0               0               0                0   \n",
       "\n",
       "     Na_to_K_binned_<10  Na_to_K_binned_10-20  Na_to_K_binned_20-30  \\\n",
       "139                   0                     1                     0   \n",
       "90                    0                     1                     0   \n",
       "137                   0                     1                     0   \n",
       "101                   0                     1                     0   \n",
       "144                   0                     1                     0   \n",
       "\n",
       "     Na_to_K_binned_>30  \n",
       "139                   0  \n",
       "90                    0  \n",
       "137                   0  \n",
       "101                   0  \n",
       "144                   0  "
      ]
     },
     "execution_count": 37,
     "metadata": {},
     "output_type": "execute_result"
    }
   ],
   "source": [
    "X_train.head()"
   ]
  },
  {
   "cell_type": "code",
   "execution_count": 38,
   "id": "fde970b1",
   "metadata": {
    "execution": {
     "iopub.execute_input": "2021-11-05T03:02:55.407544Z",
     "iopub.status.busy": "2021-11-05T03:02:55.401010Z",
     "iopub.status.idle": "2021-11-05T03:02:55.416962Z",
     "shell.execute_reply": "2021-11-05T03:02:55.417515Z",
     "shell.execute_reply.started": "2021-11-05T02:50:19.230372Z"
    },
    "papermill": {
     "duration": 0.095954,
     "end_time": "2021-11-05T03:02:55.417696",
     "exception": false,
     "start_time": "2021-11-05T03:02:55.321742",
     "status": "completed"
    },
    "tags": []
   },
   "outputs": [
    {
     "data": {
      "text/html": [
       "<div>\n",
       "<style scoped>\n",
       "    .dataframe tbody tr th:only-of-type {\n",
       "        vertical-align: middle;\n",
       "    }\n",
       "\n",
       "    .dataframe tbody tr th {\n",
       "        vertical-align: top;\n",
       "    }\n",
       "\n",
       "    .dataframe thead th {\n",
       "        text-align: right;\n",
       "    }\n",
       "</style>\n",
       "<table border=\"1\" class=\"dataframe\">\n",
       "  <thead>\n",
       "    <tr style=\"text-align: right;\">\n",
       "      <th></th>\n",
       "      <th>Sex_F</th>\n",
       "      <th>Sex_M</th>\n",
       "      <th>BP_HIGH</th>\n",
       "      <th>BP_LOW</th>\n",
       "      <th>BP_NORMAL</th>\n",
       "      <th>Cholesterol_HIGH</th>\n",
       "      <th>Cholesterol_NORMAL</th>\n",
       "      <th>Age_binned_&lt;20s</th>\n",
       "      <th>Age_binned_20s</th>\n",
       "      <th>Age_binned_30s</th>\n",
       "      <th>Age_binned_40s</th>\n",
       "      <th>Age_binned_50s</th>\n",
       "      <th>Age_binned_60s</th>\n",
       "      <th>Age_binned_&gt;60s</th>\n",
       "      <th>Na_to_K_binned_&lt;10</th>\n",
       "      <th>Na_to_K_binned_10-20</th>\n",
       "      <th>Na_to_K_binned_20-30</th>\n",
       "      <th>Na_to_K_binned_&gt;30</th>\n",
       "    </tr>\n",
       "  </thead>\n",
       "  <tbody>\n",
       "    <tr>\n",
       "      <th>18</th>\n",
       "      <td>0</td>\n",
       "      <td>1</td>\n",
       "      <td>0</td>\n",
       "      <td>1</td>\n",
       "      <td>0</td>\n",
       "      <td>1</td>\n",
       "      <td>0</td>\n",
       "      <td>0</td>\n",
       "      <td>1</td>\n",
       "      <td>0</td>\n",
       "      <td>0</td>\n",
       "      <td>0</td>\n",
       "      <td>0</td>\n",
       "      <td>0</td>\n",
       "      <td>1</td>\n",
       "      <td>0</td>\n",
       "      <td>0</td>\n",
       "      <td>0</td>\n",
       "    </tr>\n",
       "    <tr>\n",
       "      <th>170</th>\n",
       "      <td>1</td>\n",
       "      <td>0</td>\n",
       "      <td>0</td>\n",
       "      <td>0</td>\n",
       "      <td>1</td>\n",
       "      <td>1</td>\n",
       "      <td>0</td>\n",
       "      <td>0</td>\n",
       "      <td>1</td>\n",
       "      <td>0</td>\n",
       "      <td>0</td>\n",
       "      <td>0</td>\n",
       "      <td>0</td>\n",
       "      <td>0</td>\n",
       "      <td>0</td>\n",
       "      <td>1</td>\n",
       "      <td>0</td>\n",
       "      <td>0</td>\n",
       "    </tr>\n",
       "    <tr>\n",
       "      <th>107</th>\n",
       "      <td>0</td>\n",
       "      <td>1</td>\n",
       "      <td>0</td>\n",
       "      <td>1</td>\n",
       "      <td>0</td>\n",
       "      <td>1</td>\n",
       "      <td>0</td>\n",
       "      <td>0</td>\n",
       "      <td>0</td>\n",
       "      <td>0</td>\n",
       "      <td>1</td>\n",
       "      <td>0</td>\n",
       "      <td>0</td>\n",
       "      <td>0</td>\n",
       "      <td>0</td>\n",
       "      <td>0</td>\n",
       "      <td>1</td>\n",
       "      <td>0</td>\n",
       "    </tr>\n",
       "    <tr>\n",
       "      <th>98</th>\n",
       "      <td>0</td>\n",
       "      <td>1</td>\n",
       "      <td>1</td>\n",
       "      <td>0</td>\n",
       "      <td>0</td>\n",
       "      <td>0</td>\n",
       "      <td>1</td>\n",
       "      <td>0</td>\n",
       "      <td>1</td>\n",
       "      <td>0</td>\n",
       "      <td>0</td>\n",
       "      <td>0</td>\n",
       "      <td>0</td>\n",
       "      <td>0</td>\n",
       "      <td>0</td>\n",
       "      <td>0</td>\n",
       "      <td>0</td>\n",
       "      <td>1</td>\n",
       "    </tr>\n",
       "    <tr>\n",
       "      <th>177</th>\n",
       "      <td>0</td>\n",
       "      <td>1</td>\n",
       "      <td>0</td>\n",
       "      <td>0</td>\n",
       "      <td>1</td>\n",
       "      <td>1</td>\n",
       "      <td>0</td>\n",
       "      <td>0</td>\n",
       "      <td>1</td>\n",
       "      <td>0</td>\n",
       "      <td>0</td>\n",
       "      <td>0</td>\n",
       "      <td>0</td>\n",
       "      <td>0</td>\n",
       "      <td>0</td>\n",
       "      <td>0</td>\n",
       "      <td>1</td>\n",
       "      <td>0</td>\n",
       "    </tr>\n",
       "  </tbody>\n",
       "</table>\n",
       "</div>"
      ],
      "text/plain": [
       "     Sex_F  Sex_M  BP_HIGH  BP_LOW  BP_NORMAL  Cholesterol_HIGH  \\\n",
       "18       0      1        0       1          0                 1   \n",
       "170      1      0        0       0          1                 1   \n",
       "107      0      1        0       1          0                 1   \n",
       "98       0      1        1       0          0                 0   \n",
       "177      0      1        0       0          1                 1   \n",
       "\n",
       "     Cholesterol_NORMAL  Age_binned_<20s  Age_binned_20s  Age_binned_30s  \\\n",
       "18                    0                0               1               0   \n",
       "170                   0                0               1               0   \n",
       "107                   0                0               0               0   \n",
       "98                    1                0               1               0   \n",
       "177                   0                0               1               0   \n",
       "\n",
       "     Age_binned_40s  Age_binned_50s  Age_binned_60s  Age_binned_>60s  \\\n",
       "18                0               0               0                0   \n",
       "170               0               0               0                0   \n",
       "107               1               0               0                0   \n",
       "98                0               0               0                0   \n",
       "177               0               0               0                0   \n",
       "\n",
       "     Na_to_K_binned_<10  Na_to_K_binned_10-20  Na_to_K_binned_20-30  \\\n",
       "18                    1                     0                     0   \n",
       "170                   0                     1                     0   \n",
       "107                   0                     0                     1   \n",
       "98                    0                     0                     0   \n",
       "177                   0                     0                     1   \n",
       "\n",
       "     Na_to_K_binned_>30  \n",
       "18                    0  \n",
       "170                   0  \n",
       "107                   0  \n",
       "98                    1  \n",
       "177                   0  "
      ]
     },
     "execution_count": 38,
     "metadata": {},
     "output_type": "execute_result"
    }
   ],
   "source": [
    "X_test.head()"
   ]
  },
  {
   "cell_type": "markdown",
   "id": "3c05d899",
   "metadata": {
    "id": "Y17SOiU8kz5K",
    "papermill": {
     "duration": 0.077673,
     "end_time": "2021-11-05T03:02:55.574006",
     "exception": false,
     "start_time": "2021-11-05T03:02:55.496333",
     "status": "completed"
    },
    "tags": []
   },
   "source": [
    "## 6.4 SMOTE Technique ⚒\n",
    "\n",
    "👉 Since the number of 'DrugY' is more than other types of drugs, **oversampling is carried out to avoid overfitting**."
   ]
  },
  {
   "cell_type": "code",
   "execution_count": 31,
   "id": "09520557",
   "metadata": {},
   "outputs": [
    {
     "name": "stdout",
     "output_type": "stream",
     "text": [
      "Collecting imblearn\n",
      "  Downloading imblearn-0.0-py2.py3-none-any.whl (1.9 kB)\n",
      "Collecting imbalanced-learn\n",
      "  Downloading imbalanced_learn-0.8.1-py3-none-any.whl (189 kB)\n",
      "Requirement already satisfied: joblib>=0.11 in c:\\users\\patri\\anaconda3\\lib\\site-packages (from imbalanced-learn->imblearn) (1.0.1)\n",
      "Requirement already satisfied: scipy>=0.19.1 in c:\\users\\patri\\anaconda3\\lib\\site-packages (from imbalanced-learn->imblearn) (1.6.2)\n",
      "Requirement already satisfied: numpy>=1.13.3 in c:\\users\\patri\\anaconda3\\lib\\site-packages (from imbalanced-learn->imblearn) (1.20.1)\n",
      "Requirement already satisfied: scikit-learn>=0.24 in c:\\users\\patri\\anaconda3\\lib\\site-packages (from imbalanced-learn->imblearn) (0.24.1)\n",
      "Requirement already satisfied: threadpoolctl>=2.0.0 in c:\\users\\patri\\anaconda3\\lib\\site-packages (from scikit-learn>=0.24->imbalanced-learn->imblearn) (2.1.0)\n",
      "Installing collected packages: imbalanced-learn, imblearn\n",
      "Successfully installed imbalanced-learn-0.8.1 imblearn-0.0\n"
     ]
    }
   ],
   "source": [
    "!pip install imblearn  # Class to perform over-sampling using SMOTE"
   ]
  },
  {
   "cell_type": "code",
   "execution_count": 39,
   "id": "35d63ca5",
   "metadata": {
    "execution": {
     "iopub.execute_input": "2021-11-05T03:02:55.729790Z",
     "iopub.status.busy": "2021-11-05T03:02:55.729030Z",
     "iopub.status.idle": "2021-11-05T03:02:56.038277Z",
     "shell.execute_reply": "2021-11-05T03:02:56.037699Z",
     "shell.execute_reply.started": "2021-11-05T02:50:19.255479Z"
    },
    "id": "_dGygsNalXbp",
    "outputId": "2f06a057-c6f4-4d90-92b0-322fe7ea2b3e",
    "papermill": {
     "duration": 0.389127,
     "end_time": "2021-11-05T03:02:56.038447",
     "exception": false,
     "start_time": "2021-11-05T03:02:55.649320",
     "status": "completed"
    },
    "tags": []
   },
   "outputs": [],
   "source": [
    "from imblearn.over_sampling import SMOTE\n",
    "X_train, y_train = SMOTE().fit_resample(X_train, y_train)"
   ]
  },
  {
   "cell_type": "code",
   "execution_count": 40,
   "id": "ba3c11c2",
   "metadata": {
    "execution": {
     "iopub.execute_input": "2021-11-05T03:02:56.196470Z",
     "iopub.status.busy": "2021-11-05T03:02:56.195728Z",
     "iopub.status.idle": "2021-11-05T03:02:56.475823Z",
     "shell.execute_reply": "2021-11-05T03:02:56.475155Z",
     "shell.execute_reply.started": "2021-11-05T02:50:19.429510Z"
    },
    "id": "x8SkcI_qlxQ2",
    "outputId": "60c3a390-768a-4326-bba0-20dd54439843",
    "papermill": {
     "duration": 0.363336,
     "end_time": "2021-11-05T03:02:56.475991",
     "exception": false,
     "start_time": "2021-11-05T03:02:56.112655",
     "status": "completed"
    },
    "tags": []
   },
   "outputs": [
    {
     "data": {
      "image/png": "[encoded data removed]",
      "text/plain": [
       "<Figure size 432x288 with 1 Axes>"
      ]
     },
     "metadata": {},
     "output_type": "display_data"
    }
   ],
   "source": [
    "sns.set_theme(style=\"darkgrid\")\n",
    "sns.countplot(y=y_train, data=df_drug, palette=\"mako_r\")\n",
    "plt.ylabel('Drug Type')\n",
    "plt.xlabel('Total')\n",
    "plt.show()"
   ]
  },
  {
   "cell_type": "markdown",
   "id": "beb72bf7",
   "metadata": {
    "papermill": {
     "duration": 0.07465,
     "end_time": "2021-11-05T03:02:56.625667",
     "exception": false,
     "start_time": "2021-11-05T03:02:56.551017",
     "status": "completed"
    },
    "tags": []
   },
   "source": [
    "👉 As can be seen, the distrubtion of drug type are now balanced."
   ]
  },
  {
   "cell_type": "markdown",
   "id": "0d34a987",
   "metadata": {
    "id": "ZdHv3O78nKZu",
    "papermill": {
     "duration": 0.074254,
     "end_time": "2021-11-05T03:02:56.774773",
     "exception": false,
     "start_time": "2021-11-05T03:02:56.700519",
     "status": "completed"
    },
    "tags": []
   },
   "source": [
    "# 7. Models 🛠"
   ]
  },
  {
   "cell_type": "markdown",
   "id": "bf0fedb7",
   "metadata": {
    "id": "Zj2R6eVonNpv",
    "papermill": {
     "duration": 0.074478,
     "end_time": "2021-11-05T03:02:56.924103",
     "exception": false,
     "start_time": "2021-11-05T03:02:56.849625",
     "status": "completed"
    },
    "tags": []
   },
   "source": [
    "## 7.1 Logistic Regression"
   ]
  },
  {
   "cell_type": "code",
   "execution_count": 41,
   "id": "476fd482",
   "metadata": {
    "execution": {
     "iopub.execute_input": "2021-11-05T03:02:57.110039Z",
     "iopub.status.busy": "2021-11-05T03:02:57.109295Z",
     "iopub.status.idle": "2021-11-05T03:02:57.153801Z",
     "shell.execute_reply": "2021-11-05T03:02:57.152885Z",
     "shell.execute_reply.started": "2021-11-05T02:50:19.630751Z"
    },
    "id": "d5s0LhCOnSqn",
    "outputId": "428d6014-59cb-4322-836e-e5c7efaa092e",
    "papermill": {
     "duration": 0.135744,
     "end_time": "2021-11-05T03:02:57.154041",
     "exception": false,
     "start_time": "2021-11-05T03:02:57.018297",
     "status": "completed"
    },
    "tags": []
   },
   "outputs": [
    {
     "name": "stdout",
     "output_type": "stream",
     "text": [
      "              precision    recall  f1-score   support\n",
      "\n",
      "       DrugY       0.90      0.74      0.81        35\n",
      "       drugA       0.71      1.00      0.83         5\n",
      "       drugB       0.80      1.00      0.89         4\n",
      "       drugC       0.67      1.00      0.80         4\n",
      "       drugX       0.83      0.86      0.84        22\n",
      "\n",
      "    accuracy                           0.83        70\n",
      "   macro avg       0.78      0.92      0.84        70\n",
      "weighted avg       0.84      0.83      0.83        70\n",
      "\n",
      "[[26  2  1  2  4]\n",
      " [ 0  5  0  0  0]\n",
      " [ 0  0  4  0  0]\n",
      " [ 0  0  0  4  0]\n",
      " [ 3  0  0  0 19]]\n",
      "Logistic Regression accuracy is: 82.86%\n"
     ]
    }
   ],
   "source": [
    "from sklearn.linear_model import LogisticRegression\n",
    "LRclassifier = LogisticRegression(solver='liblinear', max_iter=5000)\n",
    "LRclassifier.fit(X_train, y_train)\n",
    "\n",
    "y_pred = LRclassifier.predict(X_test)\n",
    "\n",
    "print(classification_report(y_test, y_pred))\n",
    "print(confusion_matrix(y_test, y_pred))\n",
    "\n",
    "from sklearn.metrics import accuracy_score\n",
    "LRAcc = accuracy_score(y_pred,y_test)\n",
    "print('Logistic Regression accuracy is: {:.2f}%'.format(LRAcc*100))"
   ]
  },
  {
   "cell_type": "markdown",
   "id": "ce9c46e6",
   "metadata": {
    "id": "IMVGDivBnTCN",
    "papermill": {
     "duration": 0.07458,
     "end_time": "2021-11-05T03:02:57.304891",
     "exception": false,
     "start_time": "2021-11-05T03:02:57.230311",
     "status": "completed"
    },
    "tags": []
   },
   "source": [
    "## 7.2 K Neighbours"
   ]
  },
  {
   "cell_type": "code",
   "execution_count": 42,
   "id": "121a5ab4",
   "metadata": {
    "execution": {
     "iopub.execute_input": "2021-11-05T03:02:57.461107Z",
     "iopub.status.busy": "2021-11-05T03:02:57.460037Z",
     "iopub.status.idle": "2021-11-05T03:02:57.485776Z",
     "shell.execute_reply": "2021-11-05T03:02:57.484538Z",
     "shell.execute_reply.started": "2021-11-05T02:50:19.671780Z"
    },
    "papermill": {
     "duration": 0.105179,
     "end_time": "2021-11-05T03:02:57.486021",
     "exception": false,
     "start_time": "2021-11-05T03:02:57.380842",
     "status": "completed"
    },
    "tags": []
   },
   "outputs": [
    {
     "name": "stdout",
     "output_type": "stream",
     "text": [
      "              precision    recall  f1-score   support\n",
      "\n",
      "       DrugY       0.82      0.66      0.73        35\n",
      "       drugA       0.33      0.80      0.47         5\n",
      "       drugB       0.50      0.25      0.33         4\n",
      "       drugC       0.57      1.00      0.73         4\n",
      "       drugX       0.86      0.82      0.84        22\n",
      "\n",
      "    accuracy                           0.71        70\n",
      "   macro avg       0.62      0.71      0.62        70\n",
      "weighted avg       0.77      0.71      0.72        70\n",
      "\n",
      "[[23  6  0  3  3]\n",
      " [ 0  4  1  0  0]\n",
      " [ 2  1  1  0  0]\n",
      " [ 0  0  0  4  0]\n",
      " [ 3  1  0  0 18]]\n",
      "K Neighbours accuracy is: 71.43%\n"
     ]
    }
   ],
   "source": [
    "from sklearn.neighbors import KNeighborsClassifier\n",
    "KNclassifier = KNeighborsClassifier(n_neighbors=20)\n",
    "KNclassifier.fit(X_train, y_train)\n",
    "\n",
    "y_pred = KNclassifier.predict(X_test)\n",
    "\n",
    "print(classification_report(y_test, y_pred))\n",
    "print(confusion_matrix(y_test, y_pred))\n",
    "\n",
    "from sklearn.metrics import accuracy_score\n",
    "KNAcc = accuracy_score(y_pred,y_test)\n",
    "print('K Neighbours accuracy is: {:.2f}%'.format(KNAcc*100))"
   ]
  },
  {
   "cell_type": "code",
   "execution_count": 43,
   "id": "1bbb9336",
   "metadata": {
    "execution": {
     "iopub.execute_input": "2021-11-05T03:02:57.651829Z",
     "iopub.status.busy": "2021-11-05T03:02:57.651150Z",
     "iopub.status.idle": "2021-11-05T03:02:58.374251Z",
     "shell.execute_reply": "2021-11-05T03:02:58.374819Z",
     "shell.execute_reply.started": "2021-11-05T02:50:19.697151Z"
    },
    "papermill": {
     "duration": 0.810365,
     "end_time": "2021-11-05T03:02:58.375027",
     "exception": false,
     "start_time": "2021-11-05T03:02:57.564662",
     "status": "completed"
    },
    "tags": []
   },
   "outputs": [
    {
     "data": {
      "image/png": "[encoded data removed]",
      "text/plain": [
       "<Figure size 432x288 with 1 Axes>"
      ]
     },
     "metadata": {},
     "output_type": "display_data"
    },
    {
     "name": "stdout",
     "output_type": "stream",
     "text": [
      "KNN Acc Max 75.71%\n"
     ]
    }
   ],
   "source": [
    "scoreListknn = []\n",
    "for i in range(1,30):\n",
    "    KNclassifier = KNeighborsClassifier(n_neighbors = i)\n",
    "    KNclassifier.fit(X_train, y_train)\n",
    "    scoreListknn.append(KNclassifier.score(X_test, y_test))\n",
    "    \n",
    "plt.plot(range(1,30), scoreListknn)\n",
    "plt.xticks(np.arange(1,30,1))\n",
    "plt.xlabel(\"K value\")\n",
    "plt.ylabel(\"Score\")\n",
    "plt.show()\n",
    "KNAccMax = max(scoreListknn)\n",
    "print(\"KNN Acc Max {:.2f}%\".format(KNAccMax*100))"
   ]
  },
  {
   "cell_type": "markdown",
   "id": "dfd2b6a4",
   "metadata": {
    "id": "2D1sczYQneQZ",
    "papermill": {
     "duration": 0.077589,
     "end_time": "2021-11-05T03:02:58.530489",
     "exception": false,
     "start_time": "2021-11-05T03:02:58.452900",
     "status": "completed"
    },
    "tags": []
   },
   "source": [
    "## 7.3 Support Vector Machine (SVM)"
   ]
  },
  {
   "cell_type": "code",
   "execution_count": 44,
   "id": "22a6dcb9",
   "metadata": {
    "execution": {
     "iopub.execute_input": "2021-11-05T03:02:58.696290Z",
     "iopub.status.busy": "2021-11-05T03:02:58.695564Z",
     "iopub.status.idle": "2021-11-05T03:02:58.718778Z",
     "shell.execute_reply": "2021-11-05T03:02:58.719670Z",
     "shell.execute_reply.started": "2021-11-05T02:50:20.280533Z"
    },
    "id": "OF7hCd8dnhQB",
    "outputId": "22fedec4-446f-4b21-dd50-772f6d039000",
    "papermill": {
     "duration": 0.110487,
     "end_time": "2021-11-05T03:02:58.719942",
     "exception": false,
     "start_time": "2021-11-05T03:02:58.609455",
     "status": "completed"
    },
    "tags": []
   },
   "outputs": [
    {
     "name": "stdout",
     "output_type": "stream",
     "text": [
      "              precision    recall  f1-score   support\n",
      "\n",
      "       DrugY       1.00      0.69      0.81        35\n",
      "       drugA       0.71      1.00      0.83         5\n",
      "       drugB       0.80      1.00      0.89         4\n",
      "       drugC       0.50      1.00      0.67         4\n",
      "       drugX       0.85      1.00      0.92        22\n",
      "\n",
      "    accuracy                           0.84        70\n",
      "   macro avg       0.77      0.94      0.82        70\n",
      "weighted avg       0.89      0.84      0.84        70\n",
      "\n",
      "[[24  2  1  4  4]\n",
      " [ 0  5  0  0  0]\n",
      " [ 0  0  4  0  0]\n",
      " [ 0  0  0  4  0]\n",
      " [ 0  0  0  0 22]]\n",
      "SVC accuracy is: 84.29%\n"
     ]
    },
    {
     "name": "stderr",
     "output_type": "stream",
     "text": [
      "C:\\Users\\patri\\anaconda3\\lib\\site-packages\\sklearn\\svm\\_base.py:255: ConvergenceWarning: Solver terminated early (max_iter=251).  Consider pre-processing your data with StandardScaler or MinMaxScaler.\n",
      "  warnings.warn('Solver terminated early (max_iter=%i).'\n"
     ]
    }
   ],
   "source": [
    "from sklearn.svm import SVC\n",
    "SVCclassifier = SVC(kernel='linear', max_iter=251)\n",
    "SVCclassifier.fit(X_train, y_train)\n",
    "\n",
    "y_pred = SVCclassifier.predict(X_test)\n",
    "\n",
    "print(classification_report(y_test, y_pred))\n",
    "print(confusion_matrix(y_test, y_pred))\n",
    "\n",
    "from sklearn.metrics import accuracy_score\n",
    "SVCAcc = accuracy_score(y_pred,y_test)\n",
    "print('SVC accuracy is: {:.2f}%'.format(SVCAcc*100))"
   ]
  },
  {
   "cell_type": "markdown",
   "id": "1ffa3d68",
   "metadata": {
    "id": "e9WsQ86xninn",
    "papermill": {
     "duration": 0.077548,
     "end_time": "2021-11-05T03:02:58.875184",
     "exception": false,
     "start_time": "2021-11-05T03:02:58.797636",
     "status": "completed"
    },
    "tags": []
   },
   "source": [
    "## 7.4 Naive Bayes\n",
    "### 7.4.1 Categorical NB"
   ]
  },
  {
   "cell_type": "code",
   "execution_count": 45,
   "id": "4939bcaa",
   "metadata": {
    "execution": {
     "iopub.execute_input": "2021-11-05T03:02:59.035394Z",
     "iopub.status.busy": "2021-11-05T03:02:59.034306Z",
     "iopub.status.idle": "2021-11-05T03:02:59.063028Z",
     "shell.execute_reply": "2021-11-05T03:02:59.062403Z",
     "shell.execute_reply.started": "2021-11-05T02:50:20.304877Z"
    },
    "id": "hDILPZC-nktC",
    "outputId": "2b3bff31-f427-472a-c52a-5461e207117a",
    "papermill": {
     "duration": 0.109736,
     "end_time": "2021-11-05T03:02:59.063177",
     "exception": false,
     "start_time": "2021-11-05T03:02:58.953441",
     "status": "completed"
    },
    "tags": []
   },
   "outputs": [
    {
     "name": "stdout",
     "output_type": "stream",
     "text": [
      "              precision    recall  f1-score   support\n",
      "\n",
      "       DrugY       0.90      0.74      0.81        35\n",
      "       drugA       0.71      1.00      0.83         5\n",
      "       drugB       0.80      1.00      0.89         4\n",
      "       drugC       0.67      1.00      0.80         4\n",
      "       drugX       0.83      0.86      0.84        22\n",
      "\n",
      "    accuracy                           0.83        70\n",
      "   macro avg       0.78      0.92      0.84        70\n",
      "weighted avg       0.84      0.83      0.83        70\n",
      "\n",
      "[[26  2  1  2  4]\n",
      " [ 0  5  0  0  0]\n",
      " [ 0  0  4  0  0]\n",
      " [ 0  0  0  4  0]\n",
      " [ 3  0  0  0 19]]\n",
      "Naive Bayes accuracy is: 82.86%\n"
     ]
    }
   ],
   "source": [
    "from sklearn.naive_bayes import CategoricalNB\n",
    "NBclassifier1 = CategoricalNB()\n",
    "NBclassifier1.fit(X_train, y_train)\n",
    "\n",
    "y_pred = NBclassifier1.predict(X_test)\n",
    "\n",
    "print(classification_report(y_test, y_pred))\n",
    "print(confusion_matrix(y_test, y_pred))\n",
    "\n",
    "from sklearn.metrics import accuracy_score\n",
    "NBAcc1 = accuracy_score(y_pred,y_test)\n",
    "print('Naive Bayes accuracy is: {:.2f}%'.format(NBAcc1*100))"
   ]
  },
  {
   "cell_type": "markdown",
   "id": "c0c44b5a",
   "metadata": {
    "papermill": {
     "duration": 0.083142,
     "end_time": "2021-11-05T03:02:59.224782",
     "exception": false,
     "start_time": "2021-11-05T03:02:59.141640",
     "status": "completed"
    },
    "tags": []
   },
   "source": [
    "### 7.4.2 Gaussian NB"
   ]
  },
  {
   "cell_type": "code",
   "execution_count": 46,
   "id": "d4152666",
   "metadata": {
    "execution": {
     "iopub.execute_input": "2021-11-05T03:02:59.393736Z",
     "iopub.status.busy": "2021-11-05T03:02:59.393005Z",
     "iopub.status.idle": "2021-11-05T03:02:59.409017Z",
     "shell.execute_reply": "2021-11-05T03:02:59.409781Z",
     "shell.execute_reply.started": "2021-11-05T02:50:20.329982Z"
    },
    "papermill": {
     "duration": 0.105306,
     "end_time": "2021-11-05T03:02:59.410077",
     "exception": false,
     "start_time": "2021-11-05T03:02:59.304771",
     "status": "completed"
    },
    "tags": []
   },
   "outputs": [
    {
     "name": "stdout",
     "output_type": "stream",
     "text": [
      "              precision    recall  f1-score   support\n",
      "\n",
      "       DrugY       0.67      0.86      0.75        35\n",
      "       drugA       0.71      1.00      0.83         5\n",
      "       drugB       0.80      1.00      0.89         4\n",
      "       drugC       0.67      1.00      0.80         4\n",
      "       drugX       1.00      0.32      0.48        22\n",
      "\n",
      "    accuracy                           0.71        70\n",
      "   macro avg       0.77      0.84      0.75        70\n",
      "weighted avg       0.78      0.71      0.68        70\n",
      "\n",
      "[[30  2  1  2  0]\n",
      " [ 0  5  0  0  0]\n",
      " [ 0  0  4  0  0]\n",
      " [ 0  0  0  4  0]\n",
      " [15  0  0  0  7]]\n",
      "Gaussian Naive Bayes accuracy is: 71.43%\n"
     ]
    }
   ],
   "source": [
    "from sklearn.naive_bayes import GaussianNB\n",
    "NBclassifier2 = GaussianNB()\n",
    "NBclassifier2.fit(X_train, y_train)\n",
    "\n",
    "y_pred = NBclassifier2.predict(X_test)\n",
    "\n",
    "print(classification_report(y_test, y_pred))\n",
    "print(confusion_matrix(y_test, y_pred))\n",
    "\n",
    "from sklearn.metrics import accuracy_score\n",
    "NBAcc2 = accuracy_score(y_pred,y_test)\n",
    "print('Gaussian Naive Bayes accuracy is: {:.2f}%'.format(NBAcc2*100))"
   ]
  },
  {
   "cell_type": "markdown",
   "id": "4cee6d16",
   "metadata": {
    "id": "t2mXDibjnj2q",
    "papermill": {
     "duration": 0.0792,
     "end_time": "2021-11-05T03:02:59.568808",
     "exception": false,
     "start_time": "2021-11-05T03:02:59.489608",
     "status": "completed"
    },
    "tags": []
   },
   "source": [
    "## 7.5 Decision Tree"
   ]
  },
  {
   "cell_type": "code",
   "execution_count": 47,
   "id": "b20ceee8",
   "metadata": {
    "execution": {
     "iopub.execute_input": "2021-11-05T03:02:59.730910Z",
     "iopub.status.busy": "2021-11-05T03:02:59.729849Z",
     "iopub.status.idle": "2021-11-05T03:02:59.750036Z",
     "shell.execute_reply": "2021-11-05T03:02:59.749420Z",
     "shell.execute_reply.started": "2021-11-05T02:50:20.349533Z"
    },
    "id": "08HoXmgsnmd0",
    "outputId": "b8b57bdc-3f4a-4e33-b33d-dd974ba5dac2",
    "papermill": {
     "duration": 0.102116,
     "end_time": "2021-11-05T03:02:59.750185",
     "exception": false,
     "start_time": "2021-11-05T03:02:59.648069",
     "status": "completed"
    },
    "tags": []
   },
   "outputs": [
    {
     "name": "stdout",
     "output_type": "stream",
     "text": [
      "              precision    recall  f1-score   support\n",
      "\n",
      "       DrugY       1.00      0.57      0.73        35\n",
      "       drugA       0.45      1.00      0.62         5\n",
      "       drugB       0.80      1.00      0.89         4\n",
      "       drugC       0.50      1.00      0.67         4\n",
      "       drugX       0.85      1.00      0.92        22\n",
      "\n",
      "    accuracy                           0.79        70\n",
      "   macro avg       0.72      0.91      0.76        70\n",
      "weighted avg       0.87      0.79      0.79        70\n",
      "\n",
      "[[20  6  1  4  4]\n",
      " [ 0  5  0  0  0]\n",
      " [ 0  0  4  0  0]\n",
      " [ 0  0  0  4  0]\n",
      " [ 0  0  0  0 22]]\n",
      "Decision Tree accuracy is: 78.57%\n"
     ]
    }
   ],
   "source": [
    "from sklearn.tree import DecisionTreeClassifier\n",
    "DTclassifier = DecisionTreeClassifier(max_leaf_nodes=20)\n",
    "DTclassifier.fit(X_train, y_train)\n",
    "\n",
    "y_pred = DTclassifier.predict(X_test)\n",
    "\n",
    "print(classification_report(y_test, y_pred))\n",
    "print(confusion_matrix(y_test, y_pred))\n",
    "\n",
    "from sklearn.metrics import accuracy_score\n",
    "DTAcc = accuracy_score(y_pred,y_test)\n",
    "print('Decision Tree accuracy is: {:.2f}%'.format(DTAcc*100))"
   ]
  },
  {
   "cell_type": "code",
   "execution_count": 48,
   "id": "d8f13d98",
   "metadata": {
    "execution": {
     "iopub.execute_input": "2021-11-05T03:02:59.912447Z",
     "iopub.status.busy": "2021-11-05T03:02:59.911387Z",
     "iopub.status.idle": "2021-11-05T03:03:00.417773Z",
     "shell.execute_reply": "2021-11-05T03:03:00.418333Z",
     "shell.execute_reply.started": "2021-11-05T02:50:20.369392Z"
    },
    "papermill": {
     "duration": 0.589071,
     "end_time": "2021-11-05T03:03:00.418518",
     "exception": false,
     "start_time": "2021-11-05T03:02:59.829447",
     "status": "completed"
    },
    "tags": []
   },
   "outputs": [
    {
     "data": {
      "image/png": "[encoded data removed]",
      "text/plain": [
       "<Figure size 432x288 with 1 Axes>"
      ]
     },
     "metadata": {},
     "output_type": "display_data"
    },
    {
     "name": "stdout",
     "output_type": "stream",
     "text": [
      "DT Acc Max 80.00%\n"
     ]
    }
   ],
   "source": [
    "scoreListDT = []\n",
    "for i in range(2,50):\n",
    "    DTclassifier = DecisionTreeClassifier(max_leaf_nodes=i)\n",
    "    DTclassifier.fit(X_train, y_train)\n",
    "    scoreListDT.append(DTclassifier.score(X_test, y_test))\n",
    "    \n",
    "plt.plot(range(2,50), scoreListDT)\n",
    "plt.xticks(np.arange(2,50,5))\n",
    "plt.xlabel(\"Leaf\")\n",
    "plt.ylabel(\"Score\")\n",
    "plt.show()\n",
    "DTAccMax = max(scoreListDT)\n",
    "print(\"DT Acc Max {:.2f}%\".format(DTAccMax*100))"
   ]
  },
  {
   "cell_type": "markdown",
   "id": "63d49691",
   "metadata": {
    "id": "RddcpXutnmsq",
    "papermill": {
     "duration": 0.082461,
     "end_time": "2021-11-05T03:03:00.581923",
     "exception": false,
     "start_time": "2021-11-05T03:03:00.499462",
     "status": "completed"
    },
    "tags": []
   },
   "source": [
    "## 7.6 Random Forest"
   ]
  },
  {
   "cell_type": "code",
   "execution_count": 50,
   "id": "00a9207b",
   "metadata": {
    "execution": {
     "iopub.execute_input": "2021-11-05T03:03:00.755406Z",
     "iopub.status.busy": "2021-11-05T03:03:00.754313Z",
     "iopub.status.idle": "2021-11-05T03:03:00.983924Z",
     "shell.execute_reply": "2021-11-05T03:03:00.984782Z",
     "shell.execute_reply.started": "2021-11-05T02:50:20.778617Z"
    },
    "id": "N1m2oLhRnzm8",
    "outputId": "833fa334-7370-467d-aa26-a1b4c4b9a495",
    "papermill": {
     "duration": 0.321095,
     "end_time": "2021-11-05T03:03:00.985085",
     "exception": false,
     "start_time": "2021-11-05T03:03:00.663990",
     "status": "completed"
    },
    "tags": []
   },
   "outputs": [
    {
     "name": "stdout",
     "output_type": "stream",
     "text": [
      "              precision    recall  f1-score   support\n",
      "\n",
      "       DrugY       0.96      0.66      0.78        35\n",
      "       drugA       0.62      1.00      0.77         5\n",
      "       drugB       0.80      1.00      0.89         4\n",
      "       drugC       0.50      1.00      0.67         4\n",
      "       drugX       0.84      0.95      0.89        22\n",
      "\n",
      "    accuracy                           0.81        70\n",
      "   macro avg       0.74      0.92      0.80        70\n",
      "weighted avg       0.86      0.81      0.81        70\n",
      "\n",
      "[[23  3  1  4  4]\n",
      " [ 0  5  0  0  0]\n",
      " [ 0  0  4  0  0]\n",
      " [ 0  0  0  4  0]\n",
      " [ 1  0  0  0 21]]\n",
      "Random Forest accuracy is: 81.43%\n"
     ]
    }
   ],
   "source": [
    "from sklearn.ensemble import RandomForestClassifier\n",
    "\n",
    "RFclassifier = RandomForestClassifier(max_leaf_nodes=30)\n",
    "RFclassifier.fit(X_train, y_train)\n",
    "\n",
    "y_pred = RFclassifier.predict(X_test)\n",
    "\n",
    "print(classification_report(y_test, y_pred))\n",
    "print(confusion_matrix(y_test, y_pred))\n",
    "\n",
    "from sklearn.metrics import accuracy_score\n",
    "RFAcc = accuracy_score(y_pred,y_test)\n",
    "print('Random Forest accuracy is: {:.2f}%'.format(RFAcc*100))"
   ]
  },
  {
   "cell_type": "code",
   "execution_count": 58,
   "id": "9638a386",
   "metadata": {
    "execution": {
     "iopub.execute_input": "2021-11-05T03:03:01.180733Z",
     "iopub.status.busy": "2021-11-05T03:03:01.159964Z",
     "iopub.status.idle": "2021-11-05T03:04:43.859652Z",
     "shell.execute_reply": "2021-11-05T03:04:43.859066Z",
     "shell.execute_reply.started": "2021-11-05T02:50:21.007607Z"
    },
    "papermill": {
     "duration": 102.792137,
     "end_time": "2021-11-05T03:04:43.859804",
     "exception": false,
     "start_time": "2021-11-05T03:03:01.067667",
     "status": "completed"
    },
    "tags": []
   },
   "outputs": [
    {
     "data": {
      "image/png": "[encoded data removed]",
      "text/plain": [
       "<Figure size 432x288 with 1 Axes>"
      ]
     },
     "metadata": {},
     "output_type": "display_data"
    },
    {
     "name": "stdout",
     "output_type": "stream",
     "text": [
      "RF Acc Max 82.86%\n"
     ]
    }
   ],
   "source": [
    "scoreListRF = []\n",
    "for i in range(2,50):\n",
    "    RFclassifier = RandomForestClassifier(n_estimators = 1000, random_state = 1, max_leaf_nodes=i)\n",
    "    RFclassifier.fit(X_train, y_train)\n",
    "    scoreListRF.append(RFclassifier.score(X_test, y_test))\n",
    "    \n",
    "plt.plot(range(2,50), scoreListRF)\n",
    "plt.xticks(np.arange(2,50,5))\n",
    "plt.xlabel(\"RF Value\")\n",
    "plt.ylabel(\"Score\")\n",
    "plt.show()\n",
    "RFAccMax = max(scoreListRF)\n",
    "print(\"RF Acc Max {:.2f}%\".format(RFAccMax*100))"
   ]
  },
  {
   "cell_type": "markdown",
   "id": "5da3d8e4",
   "metadata": {
    "id": "_xm7OvKS07Zl",
    "papermill": {
     "duration": 0.082301,
     "end_time": "2021-11-05T03:04:44.073127",
     "exception": false,
     "start_time": "2021-11-05T03:04:43.990826",
     "status": "completed"
    },
    "tags": []
   },
   "source": [
    "# 8. Model Comparison 👀"
   ]
  },
  {
   "cell_type": "code",
   "execution_count": 59,
   "id": "13e33515",
   "metadata": {
    "execution": {
     "iopub.execute_input": "2021-11-05T03:04:44.244302Z",
     "iopub.status.busy": "2021-11-05T03:04:44.243565Z",
     "iopub.status.idle": "2021-11-05T03:04:44.263773Z",
     "shell.execute_reply": "2021-11-05T03:04:44.263143Z",
     "shell.execute_reply.started": "2021-11-05T02:51:56.875981Z"
    },
    "id": "Y3KGgy0o06O8",
    "outputId": "9cf0a87c-2270-4eff-cf42-2105c969bf1c",
    "papermill": {
     "duration": 0.107221,
     "end_time": "2021-11-05T03:04:44.263953",
     "exception": false,
     "start_time": "2021-11-05T03:04:44.156732",
     "status": "completed"
    },
    "tags": []
   },
   "outputs": [
    {
     "data": {
      "text/html": [
       "<div>\n",
       "<style scoped>\n",
       "    .dataframe tbody tr th:only-of-type {\n",
       "        vertical-align: middle;\n",
       "    }\n",
       "\n",
       "    .dataframe tbody tr th {\n",
       "        vertical-align: top;\n",
       "    }\n",
       "\n",
       "    .dataframe thead th {\n",
       "        text-align: right;\n",
       "    }\n",
       "</style>\n",
       "<table border=\"1\" class=\"dataframe\">\n",
       "  <thead>\n",
       "    <tr style=\"text-align: right;\">\n",
       "      <th></th>\n",
       "      <th>Model</th>\n",
       "      <th>Accuracy</th>\n",
       "    </tr>\n",
       "  </thead>\n",
       "  <tbody>\n",
       "    <tr>\n",
       "      <th>3</th>\n",
       "      <td>SVM</td>\n",
       "      <td>84.285714</td>\n",
       "    </tr>\n",
       "    <tr>\n",
       "      <th>0</th>\n",
       "      <td>Logistic Regression</td>\n",
       "      <td>82.857143</td>\n",
       "    </tr>\n",
       "    <tr>\n",
       "      <th>4</th>\n",
       "      <td>Categorical NB</td>\n",
       "      <td>82.857143</td>\n",
       "    </tr>\n",
       "    <tr>\n",
       "      <th>9</th>\n",
       "      <td>Random Forest Max</td>\n",
       "      <td>82.857143</td>\n",
       "    </tr>\n",
       "    <tr>\n",
       "      <th>8</th>\n",
       "      <td>Random Forest</td>\n",
       "      <td>81.428571</td>\n",
       "    </tr>\n",
       "    <tr>\n",
       "      <th>7</th>\n",
       "      <td>Decision Tree Max</td>\n",
       "      <td>80.000000</td>\n",
       "    </tr>\n",
       "    <tr>\n",
       "      <th>6</th>\n",
       "      <td>Decision Tree</td>\n",
       "      <td>78.571429</td>\n",
       "    </tr>\n",
       "    <tr>\n",
       "      <th>2</th>\n",
       "      <td>K Neighbors Max</td>\n",
       "      <td>75.714286</td>\n",
       "    </tr>\n",
       "    <tr>\n",
       "      <th>1</th>\n",
       "      <td>K Neighbors</td>\n",
       "      <td>71.428571</td>\n",
       "    </tr>\n",
       "    <tr>\n",
       "      <th>5</th>\n",
       "      <td>Gaussian NB</td>\n",
       "      <td>71.428571</td>\n",
       "    </tr>\n",
       "  </tbody>\n",
       "</table>\n",
       "</div>"
      ],
      "text/plain": [
       "                 Model   Accuracy\n",
       "3                  SVM  84.285714\n",
       "0  Logistic Regression  82.857143\n",
       "4       Categorical NB  82.857143\n",
       "9    Random Forest Max  82.857143\n",
       "8        Random Forest  81.428571\n",
       "7    Decision Tree Max  80.000000\n",
       "6        Decision Tree  78.571429\n",
       "2      K Neighbors Max  75.714286\n",
       "1          K Neighbors  71.428571\n",
       "5          Gaussian NB  71.428571"
      ]
     },
     "execution_count": 59,
     "metadata": {},
     "output_type": "execute_result"
    }
   ],
   "source": [
    "compare = pd.DataFrame({'Model': ['Logistic Regression', 'K Neighbors', 'K Neighbors Max', 'SVM', 'Categorical NB', 'Gaussian NB', 'Decision Tree', 'Decision Tree Max', 'Random Forest', 'Random Forest Max'], \n",
    "                        'Accuracy': [LRAcc*100, KNAcc*100, KNAccMax*100, SVCAcc*100, NBAcc1*100, NBAcc2*100, DTAcc*100, DTAccMax*100, RFAcc*100, RFAccMax*100]})\n",
    "compare.sort_values(by='Accuracy', ascending=False)"
   ]
  },
  {
   "cell_type": "markdown",
   "id": "40fcbc4a",
   "metadata": {
    "id": "5_JCBDAw1hJd",
    "papermill": {
     "duration": 0.084284,
     "end_time": "2021-11-05T03:04:44.433760",
     "exception": false,
     "start_time": "2021-11-05T03:04:44.349476",
     "status": "completed"
    },
    "tags": []
   },
   "source": [
    "👉 From the results, it can be seen that most of ML models can reach **up to 80% accuracy** in predicting classification of drug type."
   ]
  },
  {
   "cell_type": "markdown",
   "id": "01baf459",
   "metadata": {
    "papermill": {
     "duration": 0.082697,
     "end_time": "2021-11-05T03:04:44.599661",
     "exception": false,
     "start_time": "2021-11-05T03:04:44.516964",
     "status": "completed"
    },
    "tags": []
   },
   "source": [
    "# 9. Output 📤\n",
    "👉 The next step will make output results in csv file."
   ]
  },
  {
   "cell_type": "markdown",
   "id": "fda8e4a4",
   "metadata": {
    "papermill": {
     "duration": 0.082524,
     "end_time": "2021-11-05T03:04:44.766183",
     "exception": false,
     "start_time": "2021-11-05T03:04:44.683659",
     "status": "completed"
    },
    "tags": []
   },
   "source": [
    "## 9.1 Transforming prediction in appropriate output format 🧹"
   ]
  },
  {
   "cell_type": "code",
   "execution_count": 60,
   "id": "a23574bc",
   "metadata": {
    "execution": {
     "iopub.execute_input": "2021-11-05T03:04:44.941274Z",
     "iopub.status.busy": "2021-11-05T03:04:44.940555Z",
     "iopub.status.idle": "2021-11-05T03:04:44.948375Z",
     "shell.execute_reply": "2021-11-05T03:04:44.948942Z",
     "shell.execute_reply.started": "2021-11-05T02:51:56.891778Z"
    },
    "papermill": {
     "duration": 0.099762,
     "end_time": "2021-11-05T03:04:44.949115",
     "exception": false,
     "start_time": "2021-11-05T03:04:44.849353",
     "status": "completed"
    },
    "scrolled": true,
    "tags": []
   },
   "outputs": [],
   "source": [
    "pred_lr = LRclassifier.predict(X_test)\n",
    "prediction = pd.DataFrame({'Sex_F': X_test.loc[:,\"Sex_F\"], \n",
    "                           'Sex_M': X_test.loc[:,\"Sex_M\"], \n",
    "                           'BP_HIGH': X_test.loc[:,\"BP_HIGH\"], \n",
    "                           'BP_LOW': X_test.loc[:,\"BP_LOW\"],\n",
    "                           'BP_NORMAL': X_test.loc[:,\"BP_NORMAL\"],\n",
    "                           'Cholesterol_HIGH': X_test.loc[:,\"Cholesterol_HIGH\"],\n",
    "                           'Cholesterol_NORMAL': X_test.loc[:,\"Cholesterol_NORMAL\"],\n",
    "                           'Age_binned_<20s': X_test.loc[:,\"Age_binned_<20s\"],\n",
    "                           'Age_binned_20s': X_test.loc[:,\"Age_binned_20s\"],\n",
    "                           'Age_binned_30s': X_test.loc[:,\"Age_binned_30s\"],\n",
    "                           'Age_binned_40s': X_test.loc[:,\"Age_binned_40s\"],\n",
    "                           'Age_binned_50s': X_test.loc[:,\"Age_binned_50s\"],\n",
    "                           'Age_binned_60s': X_test.loc[:,\"Age_binned_60s\"],\n",
    "                           'Age_binned_>60s': X_test.loc[:,\"Age_binned_>60s\"],\n",
    "                           'Na_to_K_binned_<10': X_test.loc[:,\"Na_to_K_binned_<10\"],\n",
    "                           'Na_to_K_binned_10-20': X_test.loc[:,\"Na_to_K_binned_10-20\"],\n",
    "                           'Na_to_K_binned_20-30': X_test.loc[:,\"Na_to_K_binned_20-30\"],\n",
    "                           'Na_to_K_binned_>30': X_test.loc[:,\"Na_to_K_binned_>30\"],'DrugType': pred_lr})"
   ]
  },
  {
   "cell_type": "code",
   "execution_count": 61,
   "id": "74e686bd",
   "metadata": {
    "execution": {
     "iopub.execute_input": "2021-11-05T03:04:45.150445Z",
     "iopub.status.busy": "2021-11-05T03:04:45.149637Z",
     "iopub.status.idle": "2021-11-05T03:04:45.192223Z",
     "shell.execute_reply": "2021-11-05T03:04:45.191630Z",
     "shell.execute_reply.started": "2021-11-05T02:51:56.909308Z"
    },
    "papermill": {
     "duration": 0.147714,
     "end_time": "2021-11-05T03:04:45.192401",
     "exception": false,
     "start_time": "2021-11-05T03:04:45.044687",
     "status": "completed"
    },
    "tags": []
   },
   "outputs": [],
   "source": [
    "# Sex\n",
    "prediction['Sex_F'] = prediction['Sex_F'].replace([1, 0],['Female', 'Male'])\n",
    "\n",
    "#BP\n",
    "prediction['BP_HIGH'] = prediction['BP_HIGH'].replace([1, 0],['High',''])\n",
    "prediction['BP_LOW'] = prediction['BP_LOW'].replace([1, 0],['Low', ''])\n",
    "prediction['BP_NORMAL'] = prediction['BP_NORMAL'].replace([1, 0],['Normal', ''])\n",
    "\n",
    "prediction['BP_HIGH'] = np.where((prediction['BP_HIGH'] == ''), prediction['BP_LOW'], prediction['BP_HIGH'])\n",
    "prediction['BP_HIGH'] = np.where((prediction['BP_HIGH'] == ''), prediction['BP_NORMAL'], prediction['BP_HIGH'])\n",
    "\n",
    "#Cholestrol\n",
    "prediction['Cholesterol_HIGH'] = prediction['Cholesterol_HIGH'].replace([1, 0],['High', 'Normal'])\n",
    "\n",
    "#Age_binned\n",
    "prediction['Age_binned_<20s'] = prediction['Age_binned_<20s'].replace([1, 0],['<20s',''])\n",
    "prediction['Age_binned_20s'] = prediction['Age_binned_20s'].replace([1, 0],['20s',''])\n",
    "prediction['Age_binned_30s'] = prediction['Age_binned_30s'].replace([1, 0],['30s',''])\n",
    "prediction['Age_binned_40s'] = prediction['Age_binned_40s'].replace([1, 0],['40s',''])\n",
    "prediction['Age_binned_50s'] = prediction['Age_binned_50s'].replace([1, 0],['50s',''])\n",
    "prediction['Age_binned_60s'] = prediction['Age_binned_60s'].replace([1, 0],['60s',''])\n",
    "prediction['Age_binned_>60s'] = prediction['Age_binned_>60s'].replace([1, 0],['>60s',''])\n",
    "\n",
    "prediction['Age_binned_<20s'] = np.where((prediction['Age_binned_<20s'] == ''), prediction['Age_binned_20s'], prediction['Age_binned_<20s'])\n",
    "prediction['Age_binned_<20s'] = np.where((prediction['Age_binned_<20s'] == ''), prediction['Age_binned_30s'], prediction['Age_binned_<20s'])\n",
    "prediction['Age_binned_<20s'] = np.where((prediction['Age_binned_<20s'] == ''), prediction['Age_binned_40s'], prediction['Age_binned_<20s'])\n",
    "prediction['Age_binned_<20s'] = np.where((prediction['Age_binned_<20s'] == ''), prediction['Age_binned_50s'], prediction['Age_binned_<20s'])\n",
    "prediction['Age_binned_<20s'] = np.where((prediction['Age_binned_<20s'] == ''), prediction['Age_binned_60s'], prediction['Age_binned_<20s'])\n",
    "prediction['Age_binned_<20s'] = np.where((prediction['Age_binned_<20s'] == ''), prediction['Age_binned_>60s'], prediction['Age_binned_<20s'])\n",
    "\n",
    "#Na to K\n",
    "prediction['Na_to_K_binned_<10'] = prediction['Na_to_K_binned_<10'].replace([1, 0],['<10',''])\n",
    "prediction['Na_to_K_binned_10-20'] = prediction['Na_to_K_binned_10-20'].replace([1, 0],['10-20',''])\n",
    "prediction['Na_to_K_binned_20-30'] = prediction['Na_to_K_binned_20-30'].replace([1, 0],['20-30',''])\n",
    "prediction['Na_to_K_binned_>30'] = prediction['Na_to_K_binned_>30'].replace([1, 0],['>30s',''])\n",
    "\n",
    "prediction['Na_to_K_binned_<10'] = np.where((prediction['Na_to_K_binned_<10'] == ''), prediction['Na_to_K_binned_10-20'], prediction['Na_to_K_binned_<10'])\n",
    "prediction['Na_to_K_binned_<10'] = np.where((prediction['Na_to_K_binned_<10'] == ''), prediction['Na_to_K_binned_20-30'], prediction['Na_to_K_binned_<10'])\n",
    "prediction['Na_to_K_binned_<10'] = np.where((prediction['Na_to_K_binned_<10'] == ''), prediction['Na_to_K_binned_>30'], prediction['Na_to_K_binned_<10'])\n",
    "\n",
    "# Drop columns\n",
    "prediction = prediction.drop(['Sex_M', 'BP_LOW', 'BP_NORMAL', 'Cholesterol_NORMAL', 'Age_binned_20s', 'Age_binned_30s',\n",
    "                 'Age_binned_40s', 'Age_binned_50s', 'Age_binned_60s', 'Age_binned_>60s',\n",
    "                'Na_to_K_binned_10-20', 'Na_to_K_binned_20-30', 'Na_to_K_binned_>30'], axis = 1)"
   ]
  },
  {
   "cell_type": "code",
   "execution_count": 62,
   "id": "35d3e317",
   "metadata": {
    "execution": {
     "iopub.execute_input": "2021-11-05T03:04:45.368667Z",
     "iopub.status.busy": "2021-11-05T03:04:45.367716Z",
     "iopub.status.idle": "2021-11-05T03:04:45.370392Z",
     "shell.execute_reply": "2021-11-05T03:04:45.369842Z",
     "shell.execute_reply.started": "2021-11-05T02:51:56.956787Z"
    },
    "papermill": {
     "duration": 0.093373,
     "end_time": "2021-11-05T03:04:45.370536",
     "exception": false,
     "start_time": "2021-11-05T03:04:45.277163",
     "status": "completed"
    },
    "tags": []
   },
   "outputs": [],
   "source": [
    "# Rename columns name\n",
    "new_name = {'Sex_F': 'Sex', 'BP_HIGH': 'BP', 'Cholesterol_HIGH': 'Cholesterol', 'Age_binned_<20s': 'Age_binned',\n",
    "          'Na_to_K_binned_<10': 'Na_to_K_binned'}\n",
    "prediction.rename(columns=new_name, inplace=True)"
   ]
  },
  {
   "cell_type": "markdown",
   "id": "d18161d7",
   "metadata": {
    "papermill": {
     "duration": 0.084366,
     "end_time": "2021-11-05T03:04:45.538505",
     "exception": false,
     "start_time": "2021-11-05T03:04:45.454139",
     "status": "completed"
    },
    "tags": []
   },
   "source": [
    "## 9.2 Generating output file (CSV) 📄"
   ]
  },
  {
   "cell_type": "code",
   "execution_count": 63,
   "id": "db4215e8",
   "metadata": {
    "execution": {
     "iopub.execute_input": "2021-11-05T03:04:45.714556Z",
     "iopub.status.busy": "2021-11-05T03:04:45.713850Z",
     "iopub.status.idle": "2021-11-05T03:04:45.731959Z",
     "shell.execute_reply": "2021-11-05T03:04:45.731292Z",
     "shell.execute_reply.started": "2021-11-05T02:51:56.963500Z"
    },
    "papermill": {
     "duration": 0.10813,
     "end_time": "2021-11-05T03:04:45.732133",
     "exception": false,
     "start_time": "2021-11-05T03:04:45.624003",
     "status": "completed"
    },
    "tags": []
   },
   "outputs": [
    {
     "data": {
      "text/html": [
       "<div>\n",
       "<style scoped>\n",
       "    .dataframe tbody tr th:only-of-type {\n",
       "        vertical-align: middle;\n",
       "    }\n",
       "\n",
       "    .dataframe tbody tr th {\n",
       "        vertical-align: top;\n",
       "    }\n",
       "\n",
       "    .dataframe thead th {\n",
       "        text-align: right;\n",
       "    }\n",
       "</style>\n",
       "<table border=\"1\" class=\"dataframe\">\n",
       "  <thead>\n",
       "    <tr style=\"text-align: right;\">\n",
       "      <th></th>\n",
       "      <th>Sex</th>\n",
       "      <th>BP</th>\n",
       "      <th>Cholesterol</th>\n",
       "      <th>Age_binned</th>\n",
       "      <th>Na_to_K_binned</th>\n",
       "      <th>DrugType</th>\n",
       "    </tr>\n",
       "  </thead>\n",
       "  <tbody>\n",
       "    <tr>\n",
       "      <th>0</th>\n",
       "      <td>Male</td>\n",
       "      <td>Low</td>\n",
       "      <td>High</td>\n",
       "      <td>20s</td>\n",
       "      <td>&lt;10</td>\n",
       "      <td>drugC</td>\n",
       "    </tr>\n",
       "    <tr>\n",
       "      <th>1</th>\n",
       "      <td>Female</td>\n",
       "      <td>Normal</td>\n",
       "      <td>High</td>\n",
       "      <td>20s</td>\n",
       "      <td>10-20</td>\n",
       "      <td>drugX</td>\n",
       "    </tr>\n",
       "    <tr>\n",
       "      <th>2</th>\n",
       "      <td>Male</td>\n",
       "      <td>Low</td>\n",
       "      <td>High</td>\n",
       "      <td>40s</td>\n",
       "      <td>20-30</td>\n",
       "      <td>DrugY</td>\n",
       "    </tr>\n",
       "    <tr>\n",
       "      <th>3</th>\n",
       "      <td>Male</td>\n",
       "      <td>High</td>\n",
       "      <td>Normal</td>\n",
       "      <td>20s</td>\n",
       "      <td>&gt;30s</td>\n",
       "      <td>DrugY</td>\n",
       "    </tr>\n",
       "    <tr>\n",
       "      <th>4</th>\n",
       "      <td>Male</td>\n",
       "      <td>Normal</td>\n",
       "      <td>High</td>\n",
       "      <td>20s</td>\n",
       "      <td>20-30</td>\n",
       "      <td>DrugY</td>\n",
       "    </tr>\n",
       "  </tbody>\n",
       "</table>\n",
       "</div>"
      ],
      "text/plain": [
       "      Sex      BP Cholesterol Age_binned Na_to_K_binned DrugType\n",
       "0    Male     Low        High        20s            <10    drugC\n",
       "1  Female  Normal        High        20s          10-20    drugX\n",
       "2    Male     Low        High        40s          20-30    DrugY\n",
       "3    Male    High      Normal        20s           >30s    DrugY\n",
       "4    Male  Normal        High        20s          20-30    DrugY"
      ]
     },
     "execution_count": 63,
     "metadata": {},
     "output_type": "execute_result"
    }
   ],
   "source": [
    "prediction.to_csv('prediction.csv', index=False)\n",
    "predictioncsv = pd.read_csv('./prediction.csv')\n",
    "predictioncsv.head()"
   ]
  },
  {
   "cell_type": "markdown",
   "id": "7d978f52",
   "metadata": {
    "id": "x3fbe4CXnz9e",
    "papermill": {
     "duration": 0.083278,
     "end_time": "2021-11-05T03:04:45.899547",
     "exception": false,
     "start_time": "2021-11-05T03:04:45.816269",
     "status": "completed"
    },
    "tags": []
   },
   "source": [
    "   # Thank You "
   ]
  },
  {
   "cell_type": "markdown",
   "id": "a270914d",
   "metadata": {},
   "source": [
    "# Pratik Premkishor Mantri"
   ]
  },
  {
   "cell_type": "code",
   "execution_count": null,
   "id": "55f4e1da",
   "metadata": {},
   "outputs": [],
   "source": []
  }
 ],
 "metadata": {
  "kernelspec": {
   "display_name": "Python 3",
   "language": "python",
   "name": "python3"
  },
  "language_info": {
   "codemirror_mode": {
    "name": "ipython",
    "version": 3
   },
   "file_extension": ".py",
   "mimetype": "text/x-python",
   "name": "python",
   "nbconvert_exporter": "python",
   "pygments_lexer": "ipython3",
   "version": "3.8.8"
  },
  "papermill": {
   "default_parameters": {},
   "duration": 130.930013,
   "end_time": "2021-11-05T03:04:46.594556",
   "environment_variables": {},
   "exception": null,
   "input_path": "__notebook__.ipynb",
   "output_path": "__notebook__.ipynb",
   "parameters": {},
   "start_time": "2021-11-05T03:02:35.664543",
   "version": "2.3.3"
  }
 },
 "nbformat": 4,
 "nbformat_minor": 5
}
